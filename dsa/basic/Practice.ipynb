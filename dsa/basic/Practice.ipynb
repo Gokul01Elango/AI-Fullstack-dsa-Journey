{
 "cells": [
  {
   "cell_type": "code",
   "execution_count": 3,
   "id": "0aa70e6c",
   "metadata": {},
   "outputs": [
    {
     "name": "stdout",
     "output_type": "stream",
     "text": [
      "admin  kavin| Gokul\n"
     ]
    }
   ],
   "source": [
    "#Printing and Farmating\n",
    "\n",
    "print('admin ',\"kavin\",end='| ')\n",
    "print(\"Gokul\")"
   ]
  },
  {
   "cell_type": "code",
   "execution_count": null,
   "id": "d0e37d1c",
   "metadata": {},
   "outputs": [],
   "source": [
    "#My name is Gokul, I am 22 years old, 178.5 cm tall, and learning Python: True\n",
    "name=\"Gokul\"\n",
    "age = 22\n",
    "height= 178.5\n",
    "language = \"Python\"\n",
    "IsEasy = True\n",
    "\n",
    "print(\"My Name is \",name,\"I am \",age,\n",
    "\"Years old\",height,\" cm tall , and learning \",language,\" : \",IsEasy)\n",
    "print(type(name))"
   ]
  },
  {
   "cell_type": "code",
   "execution_count": null,
   "id": "00fcab31",
   "metadata": {},
   "outputs": [],
   "source": [
    "print(age,type(age))"
   ]
  },
  {
   "cell_type": "code",
   "execution_count": null,
   "id": "d99b3a1d",
   "metadata": {},
   "outputs": [],
   "source": [
    "name='Gokul Elango'\n",
    "print(name)\n",
    "print(name.lower())\n",
    "print(name.upper())\n",
    "print(name.capitalize())\n",
    "print(len(name))"
   ]
  },
  {
   "cell_type": "code",
   "execution_count": null,
   "id": "18d27bf1",
   "metadata": {},
   "outputs": [],
   "source": [
    "a=10\n",
    "b=12.23\n",
    "print(a+b,type(a+b))\n"
   ]
  },
  {
   "cell_type": "code",
   "execution_count": null,
   "id": "33a010bc",
   "metadata": {},
   "outputs": [
    {
     "name": "stdout",
     "output_type": "stream",
     "text": [
      "['R', 'Go', 'Javascript']\n"
     ]
    }
   ],
   "source": [
    "#List Practice\n",
    "\n",
    "languages=['Python','Java','C++','Rust','C','R','Go','Javascript']\n",
    "print(languages[5:8])  #last three elements\n",
    "print(languages[::-1])\n",
    "# print(languages)\n",
    "# languages[2]='HTML'\n",
    "# print(languages)\n",
    "# languages.append('C++')\n",
    "# languages.insert(-1,'23')\n",
    "# languages.reverse()\n",
    "\n",
    "# print(languages)\n",
    "# print(languages[::])\n",
    "# print(languages[3:0:-1])\n",
    "\n",
    "# [Start : Stop : Step]\n",
    "\n"
   ]
  },
  {
   "cell_type": "code",
   "execution_count": 32,
   "id": "008160a1",
   "metadata": {},
   "outputs": [
    {
     "name": "stdout",
     "output_type": "stream",
     "text": [
      "[1, 2, 3, 4, 5, 6, 7, 8, 9, 10]\n",
      "[8, 9, 10]\n",
      "[10, 9, 8, 7, 6, 5, 4, 3, 2, 1]\n",
      "[1, 3, 5, 7, 9]\n",
      "[2, 3, 4, 5, 6, 7, 8, 9]\n",
      "['Gokul', 'Arun', 'Kiran', 'Sita', 'Maya', 'Deepa', 'Ravi']\n",
      "['Gokul', 'Arun', 'Kiran', 'Sita', 'Maya', 'Deepa', 'Ravi']\n",
      "['Ravi', 'Sita', 'Gokul']\n",
      "[[10, 20, 30], [40, 50, 60], [70, 80, 90]]\n",
      "\n"
     ]
    }
   ],
   "source": [
    "# Python Slicing & Nested List Practice\n",
    "# Day: Slicing Focus | Author: Gokul\n",
    "# Instruction: Try to complete each question using slicing logic\n",
    "\n",
    "# 🔰 Q1. Print the first 4 elements from this list\n",
    "numbers = [1, 2, 3, 4, 5, 6, 7, 8, 9, 10]\n",
    "\n",
    "# Q1 Output:\n",
    "print(numbers)\n",
    "\n",
    "# 🔰 Q2. Print the last 3 elements using slicing\n",
    "\n",
    "print(numbers[7:])\n",
    "\n",
    "# 🔰 Q3. Print the list in reverse order\n",
    "print(numbers[::-1])\n",
    "\n",
    "# 🔰 Q4. Print every second element from the list\n",
    "print(numbers[0::2])\n",
    "\n",
    "# 🔰 Q5. Print all elements except the first and last\n",
    "print(numbers[1:-1])\n",
    "\n",
    "# 🔰 Q6. Print the middle 3 elements (use slicing logic for any list of odd length)\n",
    "names = [\"Gokul\", \"Arun\", \"Kiran\", \"Sita\", \"Maya\", \"Deepa\", \"Ravi\"]\n",
    "\n",
    "# Q6 Output:\n",
    "print(names)\n",
    "\n",
    "# 🔰 Q7. Copy the full list using slicing and store in a new variable\n",
    "values=names.copy()\n",
    "print(values)\n",
    "\n",
    "# 🔰 Q8. Print every third element in reverse order using slicing\n",
    "print(values[::-3])\n",
    "\n",
    "# 🔰 Q9. Print the second column of a nested 3x3 matrix\n",
    "matrix = [\n",
    "    [10, 20, 30],\n",
    "    [40, 50, 60],\n",
    "    [70, 80, 90]\n",
    "]\n",
    "\n",
    "# Q9 Output:\n",
    "print(matrix)\n",
    "\n",
    "# 🔰 Q10. Print the diagonal elements of the matrix (10, 50, 90)\n",
    "print()\n",
    "\n",
    "# ✨ Bonus Tip: Use print statements to verify your results\n",
    "# Example: print(numbers[:4])\n"
   ]
  },
  {
   "cell_type": "code",
   "execution_count": null,
   "id": "812f0c29",
   "metadata": {},
   "outputs": [],
   "source": [
    "#SET"
   ]
  }
 ],
 "metadata": {
  "kernelspec": {
   "display_name": ".venv",
   "language": "python",
   "name": "python3"
  },
  "language_info": {
   "codemirror_mode": {
    "name": "ipython",
    "version": 3
   },
   "file_extension": ".py",
   "mimetype": "text/x-python",
   "name": "python",
   "nbconvert_exporter": "python",
   "pygments_lexer": "ipython3",
   "version": "3.13.2"
  }
 },
 "nbformat": 4,
 "nbformat_minor": 5
}
