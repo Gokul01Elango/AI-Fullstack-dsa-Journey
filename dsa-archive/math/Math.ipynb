{
 "cells": [
  {
   "cell_type": "code",
   "execution_count": 8,
   "id": "e438d9d4",
   "metadata": {},
   "outputs": [
    {
     "name": "stdout",
     "output_type": "stream",
     "text": [
      "Data Types and Operators\n",
      "30\n"
     ]
    }
   ],
   "source": [
    "print(\"Data Types and Operators\")\n",
    "\n",
    "a=10;b=20;\n",
    "\n",
    "print(a+b);"
   ]
  },
  {
   "cell_type": "code",
   "execution_count": null,
   "id": "ddffee75",
   "metadata": {},
   "outputs": [],
   "source": []
  }
 ],
 "metadata": {
  "kernelspec": {
   "display_name": ".venv",
   "language": "python",
   "name": "python3"
  },
  "language_info": {
   "name": "python",
   "version": "3.13.2"
  }
 },
 "nbformat": 4,
 "nbformat_minor": 5
}
