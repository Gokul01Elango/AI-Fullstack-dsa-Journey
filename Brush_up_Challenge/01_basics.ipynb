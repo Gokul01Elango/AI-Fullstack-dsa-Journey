{
 "cells": [
  {
   "cell_type": "code",
   "execution_count": 5,
   "id": "adff7ed3",
   "metadata": {},
   "outputs": [
    {
     "name": "stdout",
     "output_type": "stream",
     "text": [
      "Hello sas in 5 years you will be 7\n",
      "3.14159\n",
      "3\n",
      "3.14159\n"
     ]
    }
   ],
   "source": [
    "# Take user input for name & age → print \"Hello <name>, in 5 years you will be <age+5>\".\n",
    "\n",
    "name =input(\"ENter your name:\")\n",
    "age=int(input(\"Enter your name : \"))\n",
    "count=age+5\n",
    "print(f\"Hello {name} in 5 years you will be {count}\")\n",
    "\n",
    "\n",
    "\n",
    "# Swap two variables without using a third variable."
   ]
  },
  {
   "cell_type": "code",
   "execution_count": 8,
   "id": "34382473",
   "metadata": {},
   "outputs": [
    {
     "name": "stdout",
     "output_type": "stream",
     "text": [
      "3.14159hello\n",
      "3\n",
      "3.14\n"
     ]
    }
   ],
   "source": [
    "# Convert a float 3.14159 to int, string, and round to 2 decimals.\n",
    "\n",
    "value=3.14159\n",
    "print(str(value)+ \"hello\")\n",
    "print(int(value))\n",
    "print(round(value,2))"
   ]
  },
  {
   "cell_type": "code",
   "execution_count": null,
   "id": "2fdbe638",
   "metadata": {},
   "outputs": [],
   "source": [
    "a=10\n",
    "b=20\n",
    "a=a+b\n",
    "b=a-b\n",
    "a=a-b"
   ]
  }
 ],
 "metadata": {
  "kernelspec": {
   "display_name": "Python 3",
   "language": "python",
   "name": "python3"
  },
  "language_info": {
   "codemirror_mode": {
    "name": "ipython",
    "version": 3
   },
   "file_extension": ".py",
   "mimetype": "text/x-python",
   "name": "python",
   "nbconvert_exporter": "python",
   "pygments_lexer": "ipython3",
   "version": "3.11.9"
  }
 },
 "nbformat": 4,
 "nbformat_minor": 5
}
