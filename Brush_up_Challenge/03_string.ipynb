{
 "cells": [
  {
   "cell_type": "code",
   "execution_count": null,
   "id": "56a484c4",
   "metadata": {},
   "outputs": [
    {
     "ename": "NameError",
     "evalue": "name 'count' is not defined",
     "output_type": "error",
     "traceback": [
      "\u001b[31m---------------------------------------------------------------------------\u001b[39m",
      "\u001b[31mNameError\u001b[39m                                 Traceback (most recent call last)",
      "\u001b[36mCell\u001b[39m\u001b[36m \u001b[39m\u001b[32mIn[2]\u001b[39m\u001b[32m, line 12\u001b[39m\n\u001b[32m      1\u001b[39m \u001b[38;5;66;03m# 03_strings.ipynb\u001b[39;00m\n\u001b[32m      2\u001b[39m \n\u001b[32m      3\u001b[39m \u001b[38;5;66;03m# Count the vowels in \"Generative AI Engineer\".\u001b[39;00m\n\u001b[32m   (...)\u001b[39m\u001b[32m      8\u001b[39m \n\u001b[32m      9\u001b[39m \u001b[38;5;66;03m# Convert \"python is fun\" → \"Python Is Fun\".\u001b[39;00m\n\u001b[32m     11\u001b[39m string =\u001b[33m\"\u001b[39m\u001b[33mGenerative AI Engineer\u001b[39m\u001b[33m\"\u001b[39m\n\u001b[32m---> \u001b[39m\u001b[32m12\u001b[39m \u001b[38;5;28mprint\u001b[39m(\u001b[43mcount\u001b[49m(string))\n",
      "\u001b[31mNameError\u001b[39m: name 'count' is not defined"
     ]
    }
   ],
   "source": [
    "# 03_strings.ipynb\n",
    "\n",
    "# Count the vowels in \"Generative AI Engineer\".\n",
    "\n",
    "# Reverse \"OpenAI\" without slicing.\n",
    "\n",
    "# Check if a string is a palindrome.\n",
    "\n",
    "# Convert \"python is fun\" → \"Python Is Fun\".\n",
    "\n",
    "string =\"Generative AI Engineer\"\n",
    "print(string.capitalize())"
   ]
  }
 ],
 "metadata": {
  "kernelspec": {
   "display_name": "Python 3",
   "language": "python",
   "name": "python3"
  },
  "language_info": {
   "codemirror_mode": {
    "name": "ipython",
    "version": 3
   },
   "file_extension": ".py",
   "mimetype": "text/x-python",
   "name": "python",
   "nbconvert_exporter": "python",
   "pygments_lexer": "ipython3",
   "version": "3.11.9"
  }
 },
 "nbformat": 4,
 "nbformat_minor": 5
}
