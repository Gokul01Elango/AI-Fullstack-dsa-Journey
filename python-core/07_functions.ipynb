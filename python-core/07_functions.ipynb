{
 "cells": [
  {
   "cell_type": "code",
   "execution_count": null,
   "id": "d029e928",
   "metadata": {},
   "outputs": [],
   "source": [
    "## ⚙️ Concept 10: Python Function Practice\n",
    "🎯 Focus: definitions, parameters, returns, logic"
   ]
  },
  {
   "cell_type": "code",
   "execution_count": 6,
   "id": "691b6326",
   "metadata": {},
   "outputs": [
    {
     "name": "stdout",
     "output_type": "stream",
     "text": [
      "Hello, welcome !\n"
     ]
    }
   ],
   "source": [
    "# Q1: Write a function called `greet()` that prints \"Hello, welcome!\"\n",
    "\n",
    "def greet():\n",
    "    print(\"Hello, welcome !\")\n",
    "greet()"
   ]
  },
  {
   "cell_type": "code",
   "execution_count": 9,
   "id": "0e1f590c",
   "metadata": {},
   "outputs": [
    {
     "data": {
      "text/plain": [
       "8"
      ]
     },
     "execution_count": 9,
     "metadata": {},
     "output_type": "execute_result"
    }
   ],
   "source": [
    "# Q2: Write a function `add(a, b)` that returns the sum of 2 numbers\n",
    "\n",
    "def add(a,b):\n",
    "    return a+b\n",
    "\n",
    "add(3,5)"
   ]
  },
  {
   "cell_type": "code",
   "execution_count": 11,
   "id": "782b36dd",
   "metadata": {},
   "outputs": [
    {
     "data": {
      "text/plain": [
       "True"
      ]
     },
     "execution_count": 11,
     "metadata": {},
     "output_type": "execute_result"
    }
   ],
   "source": [
    "# Q3: Write a function `is_even(n)` that returns True if number is even\n",
    "\n",
    "def is_even(n):\n",
    "    if(n%2==0):\n",
    "        return True\n",
    "    else :\n",
    "        return False\n",
    "is_even(12)"
   ]
  },
  {
   "cell_type": "code",
   "execution_count": 13,
   "id": "8a7de4c3",
   "metadata": {},
   "outputs": [
    {
     "data": {
      "text/plain": [
       "[1, 3, 3, 5, 5]"
      ]
     },
     "execution_count": 13,
     "metadata": {},
     "output_type": "execute_result"
    }
   ],
   "source": [
    "# Q4: Write a function that takes a list and returns only the odd numbers\n",
    "lists=list()\n",
    "def find_odd_num(numbers):\n",
    "    for i in numbers:\n",
    "        if(i%2==1):\n",
    "            lists.append(i)\n",
    "    return lists\n",
    "find_odd_num([1,2,3,4,2,3,4,5,5])"
   ]
  },
  {
   "cell_type": "code",
   "execution_count": 18,
   "id": "17a584c5",
   "metadata": {},
   "outputs": [
    {
     "data": {
      "text/plain": [
       "0.5"
      ]
     },
     "execution_count": 18,
     "metadata": {},
     "output_type": "execute_result"
    }
   ],
   "source": [
    "# Q5: Write a function `calculator(a, b, op)` that:\n",
    "# - if op is '+', return a + b\n",
    "# - if '-', return a - b\n",
    "# - if '*', return a * b\n",
    "# - if '/', return a / b\n",
    "\n",
    "def calculator(a,b,op):\n",
    "    if op=='-':\n",
    "        return a-b\n",
    "    elif op=='+':\n",
    "        return a+b\n",
    "    elif op=='*':\n",
    "        return a*b\n",
    "    elif op=='/':\n",
    "        return a/b\n",
    "\n",
    "calculator(3,6,'/')\n"
   ]
  },
  {
   "cell_type": "code",
   "execution_count": 19,
   "id": "4a14327b",
   "metadata": {},
   "outputs": [
    {
     "data": {
      "text/plain": [
       "7"
      ]
     },
     "execution_count": 19,
     "metadata": {},
     "output_type": "execute_result"
    }
   ],
   "source": [
    "# Q6: Write a function `get_max(x, y, z)` that returns the largest of 3 numbers\n",
    "\n",
    "def get_max(x,y,z):\n",
    "    if(x>y and x>z):\n",
    "        return x\n",
    "    elif y>x and y>z:\n",
    "        return y\n",
    "    elif z>x and z>y:\n",
    "        return z\n",
    "    \n",
    "get_max(7,5,6)"
   ]
  },
  {
   "cell_type": "code",
   "execution_count": 4,
   "id": "45226520",
   "metadata": {},
   "outputs": [
    {
     "name": "stdout",
     "output_type": "stream",
     "text": [
      "5\n"
     ]
    }
   ],
   "source": [
    "# Q7: Write a function to count vowels in a given string\n",
    "\n",
    "def vowels_count(word):\n",
    "    count=0\n",
    "    for i in word:\n",
    "        if(i in 'aeiou'):\n",
    "            count+=1\n",
    "    print(count)\n",
    "    \n",
    "\n",
    "vowels_count(\"administrater\")"
   ]
  },
  {
   "cell_type": "code",
   "execution_count": 24,
   "id": "b394c5aa",
   "metadata": {},
   "outputs": [
    {
     "data": {
      "text/plain": [
       "(26, 7, 3.7142857142857144)"
      ]
     },
     "execution_count": 24,
     "metadata": {},
     "output_type": "execute_result"
    }
   ],
   "source": [
    "# Q8: Write a function that takes a list of numbers and returns:\n",
    "# - sum, average, and count (return all 3 values)\n",
    "\n",
    "def operations(lists):\n",
    "    sum=0\n",
    "    avg=0\n",
    "    count=0\n",
    "    for i in lists:\n",
    "        sum+=i\n",
    "        count+=1\n",
    "    return sum,count,sum/count\n",
    "operations([2,4,5,6,2,3,4])"
   ]
  },
  {
   "cell_type": "code",
   "execution_count": 25,
   "id": "2d077a16",
   "metadata": {},
   "outputs": [
    {
     "data": {
      "text/plain": [
       "'kcolB nimdA'"
      ]
     },
     "execution_count": 25,
     "metadata": {},
     "output_type": "execute_result"
    }
   ],
   "source": [
    "# Q9: Write a function `reverse_string(text)` that returns the reversed string\n",
    "\n",
    "def reverse_string(text):\n",
    "    return text[::-1]\n",
    "reverse_string(\"Admin Block\")"
   ]
  },
  {
   "cell_type": "code",
   "execution_count": 28,
   "id": "579dc9ca",
   "metadata": {},
   "outputs": [
    {
     "data": {
      "text/plain": [
       "'palindrome'"
      ]
     },
     "execution_count": 28,
     "metadata": {},
     "output_type": "execute_result"
    }
   ],
   "source": [
    "# Q10: Write a function `is_palindrome(word)` that returns True if the word is a palindrome\n",
    "# (same forward & backward like \"madam\")\n",
    "\n",
    "def is_palindrome(word):\n",
    "    rev_word=word[::-1]\n",
    "    if(word==rev_word):\n",
    "        return \"palindrome\"\n",
    "    else:\n",
    "        return \"not palindrome\"\n",
    "is_palindrome(\"madam\")"
   ]
  }
 ],
 "metadata": {
  "kernelspec": {
   "display_name": "Python 3",
   "language": "python",
   "name": "python3"
  },
  "language_info": {
   "codemirror_mode": {
    "name": "ipython",
    "version": 3
   },
   "file_extension": ".py",
   "mimetype": "text/x-python",
   "name": "python",
   "nbconvert_exporter": "python",
   "pygments_lexer": "ipython3",
   "version": "3.11.9"
  }
 },
 "nbformat": 4,
 "nbformat_minor": 5
}
