{
 "cells": [
  {
   "cell_type": "markdown",
   "id": "cb803642",
   "metadata": {},
   "source": [
    "## 🛡️ Concept 12: Exception Handling – Practice\n",
    "🎯 Focus: try-except, multiple errors, cleanup"
   ]
  },
  {
   "cell_type": "code",
   "execution_count": 4,
   "id": "aead8212",
   "metadata": {},
   "outputs": [
    {
     "name": "stdout",
     "output_type": "stream",
     "text": [
      "I dont know the error name\n",
      "Code Executed\n"
     ]
    }
   ],
   "source": [
    "# Q1: Ask user for 2 numbers and divide them.\n",
    "# - Handle ZeroDivisionError and ValueError\n",
    "\n",
    "a=int(input())\n",
    "b=int(input())\n",
    "\n",
    "try:\n",
    "    a/b\n",
    "# except ZeroDivisionError:\n",
    "#     print(\"Cant divide by Zero\")\n",
    "# except ValueError:\n",
    "#     print(\"Value Error\")\n",
    "except:\n",
    "    print(\"I dont know the error name\")\n",
    "finally:\n",
    "    print(\"Code Executed\")\n"
   ]
  },
  {
   "cell_type": "code",
   "execution_count": null,
   "id": "c73ae7c0",
   "metadata": {},
   "outputs": [
    {
     "name": "stdout",
     "output_type": "stream",
     "text": [
      "Convertion error\n",
      "Code executed\n"
     ]
    }
   ],
   "source": [
    "# Q3: Write a function `safe_convert(s)` that tries to convert a string to int.\n",
    "# - Return 0 if it fails\n",
    "def safe_convert(s):\n",
    "    name=\"string\"\n",
    "    if(name==9):   # exception occured here\n",
    "        print(1)\n",
    "try:\n",
    "    safe_convert(s)\n",
    "except:\n",
    "    print(\"Convertion error\")\n",
    "finally:\n",
    "    print(\"Code executed\")\n"
   ]
  },
  {
   "cell_type": "code",
   "execution_count": 7,
   "id": "7337b3f5",
   "metadata": {},
   "outputs": [
    {
     "name": "stdout",
     "output_type": "stream",
     "text": [
      "IndexError\n",
      "Code executed\n"
     ]
    }
   ],
   "source": [
    "# Q4: Ask user to input a list index and print that item.\n",
    "# - Handle IndexError\n",
    "\n",
    "values = [1,2,3,43,23,12,545,645,34]\n",
    "\n",
    "try :\n",
    "    values[23]\n",
    "except IndexError:\n",
    "    print(\"IndexError\")\n",
    "finally:\n",
    "    print(\"Code executed\")"
   ]
  },
  {
   "cell_type": "code",
   "execution_count": 8,
   "id": "f5ea103b",
   "metadata": {},
   "outputs": [
    {
     "name": "stdout",
     "output_type": "stream",
     "text": [
      "Key not found\n",
      "code executed\n"
     ]
    }
   ],
   "source": [
    "# Q5: Create a dictionary and ask user for a key.\n",
    "# - Handle KeyError if key doesn’t exist\n",
    "\n",
    "datas={\n",
    "    \"name\":\"gokul\",\n",
    "    \"age\":\"22\",\n",
    "    \"degree\":\"IT\"\n",
    "}\n",
    "\n",
    "try :\n",
    "    print(datas[\"marks\"])\n",
    "except KeyError:\n",
    "    print(\"Key not found\")\n",
    "finally:\n",
    "    print(\"code executed\")\n"
   ]
  },
  {
   "cell_type": "code",
   "execution_count": 10,
   "id": "4cd6153f",
   "metadata": {},
   "outputs": [
    {
     "name": "stdout",
     "output_type": "stream",
     "text": [
      "code executed\n"
     ]
    }
   ],
   "source": [
    "# Q6: Use `try-except-else`:\n",
    "# - Ask for name, if valid (non-empty), print greeting\n",
    "# - Else show error\n",
    "\n",
    "try :\n",
    "    username = input()\n",
    "    if not username=='':\n",
    "        print(\"word\")\n",
    "finally:\n",
    "    print(\"code executed\")"
   ]
  },
  {
   "cell_type": "code",
   "execution_count": null,
   "id": "58287e7b",
   "metadata": {},
   "outputs": [],
   "source": []
  }
 ],
 "metadata": {
  "kernelspec": {
   "display_name": "Python 3",
   "language": "python",
   "name": "python3"
  },
  "language_info": {
   "codemirror_mode": {
    "name": "ipython",
    "version": 3
   },
   "file_extension": ".py",
   "mimetype": "text/x-python",
   "name": "python",
   "nbconvert_exporter": "python",
   "pygments_lexer": "ipython3",
   "version": "3.11.9"
  }
 },
 "nbformat": 4,
 "nbformat_minor": 5
}
