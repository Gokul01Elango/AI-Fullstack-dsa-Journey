{
 "cells": [
  {
   "cell_type": "markdown",
   "id": "8deed990",
   "metadata": {},
   "source": [
    "## 🛠️ Step 2: `map()`, `filter()`, and `reduce()` (Using Lambda)\n",
    "\n",
    "---\n",
    "\n",
    "### 🔹 **Concept Recap**\n",
    "\n",
    "| **Function** | **What it Does**                                  |\n",
    "|---------------|--------------------------------------------------|\n",
    "| `map()`       | Applies a function to **each item** in a list.    |\n",
    "| `filter()`    | Filters items in a list based on a **condition**. |\n",
    "| `reduce()`    | Combines all items into a **single value**. (Requires importing from `functools`.) |\n",
    "\n",
    "---\n",
    "\n",
    "### ✅ **1️⃣ map() — Apply to All Items**\n",
    "\n",
    "- Applies a function to every item in an iterable (like a list).\n",
    "- Returns a **map object** (convert using `list()`).\n",
    "\n",
    "**Example:** Multiply every number by 2\n",
    "```python\n",
    "numbers = [1, 2, 3, 4, 5]\n",
    "result = list(map(lambda x: x * 2, numbers))\n",
    "print(result)  # Output: [2, 4, 6, 8, 10]\n"
   ]
  },
  {
   "cell_type": "markdown",
   "id": "560718aa",
   "metadata": {},
   "source": [
    "## ✅ map(), filter(), reduce() Practice\n",
    "🎯 Goal: Use lambda with map, filter, and reduce functions.\n"
   ]
  },
  {
   "cell_type": "code",
   "execution_count": 10,
   "id": "70e3c152",
   "metadata": {},
   "outputs": [
    {
     "name": "stdout",
     "output_type": "stream",
     "text": [
      "{2, 4, 6, 8, 10}\n"
     ]
    }
   ],
   "source": [
    "# Q1: Using map()\n",
    "# Given: [1, 2, 3, 4,5,5,4,3, 5]\n",
    "# Multiply every element by 2 and print the new list.\n",
    "nums=[1, 2, 3, 4,5,5,4,3, 5]\n",
    "mult_func=map(lambda x:x*2,nums)\n",
    "print(set(mult_func))"
   ]
  },
  {
   "cell_type": "code",
   "execution_count": 14,
   "id": "049b9848",
   "metadata": {},
   "outputs": [
    {
     "name": "stdout",
     "output_type": "stream",
     "text": [
      "[10, 20, 30]\n"
     ]
    }
   ],
   "source": [
    "# Q2: Using filter()\n",
    "# Given: [5, 10, 15, 20, 25]\n",
    "# Filter and return only numbers divisible by 10.\n",
    "nums=[5,10,15,20,25,30]\n",
    "func=filter(lambda x:x%10==0,nums)\n",
    "print(list(func))"
   ]
  },
  {
   "cell_type": "code",
   "execution_count": 18,
   "id": "c99bda69",
   "metadata": {},
   "outputs": [
    {
     "name": "stdout",
     "output_type": "stream",
     "text": [
      "120\n"
     ]
    }
   ],
   "source": [
    "# Q3: Using reduce()\n",
    "# Given: [2, 3, 4, 5]\n",
    "# Find product of all numbers using reduce().\n",
    "nums=[2,3,4,5]\n",
    "from functools import reduce\n",
    "prod=reduce(lambda x,y:x*y,nums)\n",
    "print(prod)"
   ]
  },
  {
   "cell_type": "markdown",
   "id": "992a0dc7",
   "metadata": {},
   "source": [
    "## ✅ Lambda Functions – Multiple Practice Tasks"
   ]
  },
  {
   "cell_type": "code",
   "execution_count": null,
   "id": "9c4ce50a",
   "metadata": {},
   "outputs": [
    {
     "name": "stdout",
     "output_type": "stream",
     "text": [
      "64\n"
     ]
    }
   ],
   "source": [
    "# Q1: Create a lambda to cube a number (x^3).\n",
    "# Example: input 3 -> output 27\n",
    "\n",
    "cube=lambda x:x**3\n",
    "print(cube(4))\n"
   ]
  },
  {
   "cell_type": "code",
   "execution_count": null,
   "id": "9ddac1f7",
   "metadata": {},
   "outputs": [
    {
     "name": "stdout",
     "output_type": "stream",
     "text": [
      "True\n"
     ]
    }
   ],
   "source": [
    "\n",
    "# Q2: Lambda to check whether a string starts with 'A' (True/False).\n",
    "\n",
    "check = lambda x:x[0]=='A'\n",
    "print(check('Admin'))\n"
   ]
  },
  {
   "cell_type": "code",
   "execution_count": null,
   "id": "5ba5214a",
   "metadata": {},
   "outputs": [
    {
     "name": "stdout",
     "output_type": "stream",
     "text": [
      "25\n"
     ]
    }
   ],
   "source": [
    "\n",
    "# Q3: Lambda to calculate square of the sum of two numbers.\n",
    "# Example: input 2,3 -> output 25\n",
    "\n",
    "square_sum=lambda x,y:(x+y)**2\n",
    "print(square_sum(2,3))\n"
   ]
  },
  {
   "cell_type": "code",
   "execution_count": null,
   "id": "ea4ab787",
   "metadata": {},
   "outputs": [
    {
     "name": "stdout",
     "output_type": "stream",
     "text": [
      "dlroW olleH\n"
     ]
    }
   ],
   "source": [
    "\n",
    "# Q4: Lambda to reverse a string.\n",
    "\n",
    "reverse=lambda x:x[::-1]\n",
    "print(reverse(\"Hello World\"))\n",
    "\n"
   ]
  },
  {
   "cell_type": "code",
   "execution_count": 30,
   "id": "c8a22d78",
   "metadata": {},
   "outputs": [
    {
     "name": "stdout",
     "output_type": "stream",
     "text": [
      "9\n"
     ]
    }
   ],
   "source": [
    "# Q5: BONUS – Lambda to find max of three numbers using:\n",
    "# lambda a, b, c : max(a, b, c)\n",
    "\n",
    "max=lambda a,b,c:a if a>b and a>c else b if b>a and b>c else c\n",
    "print(max(8,9,3))"
   ]
  },
  {
   "cell_type": "markdown",
   "id": "dd2f94f7",
   "metadata": {},
   "source": [
    "📄 Section 2: map() Practice\n",
    "## ✅ map() Function – Practice Tasks"
   ]
  },
  {
   "cell_type": "code",
   "execution_count": null,
   "id": "8aadce6e",
   "metadata": {},
   "outputs": [
    {
     "name": "stdout",
     "output_type": "stream",
     "text": [
      "[5, 15, 25, 35]\n"
     ]
    }
   ],
   "source": [
    "# Q1: Multiply each item in the list [1, 3, 5, 7] by 5.\n",
    "nums=[1, 3, 5, 7]\n",
    "mult=map(lambda x:x*5,nums)\n",
    "print(list(mult))\n"
   ]
  },
  {
   "cell_type": "code",
   "execution_count": null,
   "id": "7db9cf42",
   "metadata": {},
   "outputs": [
    {
     "name": "stdout",
     "output_type": "stream",
     "text": [
      "['APPLE', 'BANANA', 'CHERRY']\n"
     ]
    }
   ],
   "source": [
    "# Q2: Convert list of strings to uppercase:\n",
    "# Input: ['apple', 'banana', 'cherry']\n",
    "\n",
    "input =['apple', 'banana', 'cherry']\n",
    "upper=map(lambda x:x.upper(),input)\n",
    "print(list(upper))"
   ]
  },
  {
   "cell_type": "code",
   "execution_count": null,
   "id": "c29f06df",
   "metadata": {},
   "outputs": [
    {
     "name": "stdout",
     "output_type": "stream",
     "text": [
      "[32.0, 68.0, 86.0, 104.0]\n"
     ]
    }
   ],
   "source": [
    "# Q3: Convert list of temperatures from Celsius to Fahrenheit:\n",
    "# Input: [0, 20, 30, 40]\n",
    "# Formula: (temp * 9/5) + 32\n",
    "\n",
    "inputs=[0, 20, 30, 40]\n",
    "Fahrenheit=map(lambda x:x*9/5 +32,inputs)\n",
    "print(list(Fahrenheit))\n"
   ]
  },
  {
   "cell_type": "code",
   "execution_count": null,
   "id": "36eeb686",
   "metadata": {},
   "outputs": [
    {
     "name": "stdout",
     "output_type": "stream",
     "text": [
      "[12, 13, 14, 15, 16, 17, 18]\n"
     ]
    }
   ],
   "source": [
    "\n",
    "# Q4: Add 10 to every element in the list using map().\n",
    "lists=[2,3,4,5,6,7,8]\n",
    "print(list(map(lambda x:x+10,lists)))\n",
    "\n"
   ]
  },
  {
   "cell_type": "code",
   "execution_count": 39,
   "id": "c1ec8c07",
   "metadata": {},
   "outputs": [
    {
     "name": "stdout",
     "output_type": "stream",
     "text": [
      "[3, 4, 5]\n"
     ]
    }
   ],
   "source": [
    "# Q5: BONUS – Round each float value in list:\n",
    "# Input: [2.345, 3.567, 4.789]\n",
    "import math\n",
    "inputs=[2.345, 3.567, 4.789]\n",
    "\n",
    "print(list(map(lambda x:math.ceil(x),inputs)))"
   ]
  },
  {
   "cell_type": "markdown",
   "id": "eb18c72d",
   "metadata": {},
   "source": [
    "📄 Section 3: filter() Practice\n",
    "\n",
    "## ✅ filter() Function – Practice Tasks"
   ]
  },
  {
   "cell_type": "code",
   "execution_count": null,
   "id": "acdd3cdf",
   "metadata": {},
   "outputs": [
    {
     "name": "stdout",
     "output_type": "stream",
     "text": [
      "[10, 15, 20, 25, 30, 35, 40]\n"
     ]
    }
   ],
   "source": [
    "# Q1: From list [10, 15, 20, 25, 30], filter numbers divisible by 5.\n",
    "\n",
    "lists=[10,15,20,25,30,35,40]\n",
    "\n",
    "print(list(filter(lambda x:x%5==0,lists)))\n",
    "\n"
   ]
  },
  {
   "cell_type": "code",
   "execution_count": null,
   "id": "743fe293",
   "metadata": {},
   "outputs": [
    {
     "name": "stdout",
     "output_type": "stream",
     "text": [
      "['banana', 'elephant']\n"
     ]
    }
   ],
   "source": [
    "\n",
    "# Q2: Filter only strings with length > 5.\n",
    "# Input: ['apple', 'banana', 'cat', 'elephant']\n",
    "\n",
    "inputs=['apple', 'banana', 'cat', 'elephant']\n",
    "print(list(filter(lambda x:len(x)>5,inputs)))\n",
    "\n"
   ]
  },
  {
   "cell_type": "code",
   "execution_count": null,
   "id": "53e9ab98",
   "metadata": {},
   "outputs": [
    {
     "name": "stdout",
     "output_type": "stream",
     "text": [
      "['Sam', 'Sita']\n"
     ]
    }
   ],
   "source": [
    "# Q3: From list of names, filter those starting with 'S'.\n",
    "# Input: ['Sam', 'Ravi', 'Sita', 'Tom']\n",
    "\n",
    "inputs = ['Sam', 'Ravi', 'Sita', 'Tom']\n",
    "\n",
    "print(list(filter(lambda x:x.startswith('S'),inputs)))\n",
    "\n"
   ]
  },
  {
   "cell_type": "code",
   "execution_count": null,
   "id": "d60116df",
   "metadata": {},
   "outputs": [
    {
     "name": "stdout",
     "output_type": "stream",
     "text": [
      "[-1, -1, -76, -56, -32]\n"
     ]
    }
   ],
   "source": [
    "# Q4: From list of numbers, filter all negative numbers.\n",
    "\n",
    "nums=[-1,2,3-4,-76,32,-56,0,23,-32]\n",
    "\n",
    "print(list(filter(lambda x:x<0,nums)))\n",
    "\n"
   ]
  },
  {
   "cell_type": "code",
   "execution_count": 62,
   "id": "214ac383",
   "metadata": {},
   "outputs": [
    {
     "name": "stdout",
     "output_type": "stream",
     "text": [
      "[1, 4, 7, 9, 16, 20]\n"
     ]
    }
   ],
   "source": [
    "\n",
    "# Q5: BONUS – From list of numbers, filter all perfect squares.\n",
    "# Input: [1, 4, 7, 9, 16, 20]\n",
    "\n",
    "nums=[1, 4, 7, 9, 16, 20]\n",
    "print(list(filter(lambda x:math.sqrt(x),nums)))"
   ]
  },
  {
   "cell_type": "markdown",
   "id": "9750e9b8",
   "metadata": {},
   "source": [
    "📄 Section 4: reduce() Practice\n",
    "## ✅ reduce() Function – Practice Tasks"
   ]
  }
 ],
 "metadata": {
  "kernelspec": {
   "display_name": "Python 3",
   "language": "python",
   "name": "python3"
  },
  "language_info": {
   "codemirror_mode": {
    "name": "ipython",
    "version": 3
   },
   "file_extension": ".py",
   "mimetype": "text/x-python",
   "name": "python",
   "nbconvert_exporter": "python",
   "pygments_lexer": "ipython3",
   "version": "3.11.9"
  }
 },
 "nbformat": 4,
 "nbformat_minor": 5
}
