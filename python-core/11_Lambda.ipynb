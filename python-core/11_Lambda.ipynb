{
 "cells": [
  {
   "cell_type": "markdown",
   "id": "e82c9abd",
   "metadata": {},
   "source": [
    "🧱 Lambda Functions in Python (Step-by-Step)\n",
    "🔹 Concept Recap\n",
    "\n",
    "    lambda creates small anonymous functions (functions without a name).\n",
    "\n",
    "    Can be used wherever a function is required, but you don't want to formally define it.\n",
    "\n",
    "🧠 Think of lambda as:\n",
    "\n",
    "    One-line shortcut for simple functions."
   ]
  },
  {
   "cell_type": "markdown",
   "id": "5c652467",
   "metadata": {},
   "source": [
    "## ✅ Lambda Function Practice\n",
    "🎯 Goal: Create small, anonymous functions using lambda.\n",
    "\n",
    "## lambda arguments : expression\n",
    "## lambda x,y:x+y\n",
    "## lambda x,z,sum:x*y+sum\n",
    "\n",
    "## we can mention how many arguments that we have."
   ]
  },
  {
   "cell_type": "code",
   "execution_count": 2,
   "id": "d3caf01c",
   "metadata": {},
   "outputs": [
    {
     "name": "stdout",
     "output_type": "stream",
     "text": [
      "15\n"
     ]
    }
   ],
   "source": [
    "# Q1: Create a lambda function to add 10 to a given number.\n",
    "# Example: input 5 -> output 15\n",
    "\n",
    "add_10=lambda x:x+10\n",
    "print(add_10(5))"
   ]
  },
  {
   "cell_type": "code",
   "execution_count": 3,
   "id": "0718ca7e",
   "metadata": {},
   "outputs": [
    {
     "name": "stdout",
     "output_type": "stream",
     "text": [
      "12\n"
     ]
    }
   ],
   "source": [
    "# Q2: Write a lambda that multiplies two numbers.\n",
    "# Example: input 3, 4 -> output 12\n",
    "\n",
    "mult=lambda x,y:x*y\n",
    "print(mult(3,4))"
   ]
  },
  {
   "cell_type": "code",
   "execution_count": 5,
   "id": "987b2c93",
   "metadata": {},
   "outputs": [
    {
     "name": "stdout",
     "output_type": "stream",
     "text": [
      "False\n"
     ]
    }
   ],
   "source": [
    "# Q3: Create a lambda to return True if a number is even.\n",
    "# Example: input 6 -> True\n",
    "\n",
    "iseven=lambda n:n%2==0\n",
    "print(iseven(6+9))"
   ]
  },
  {
   "cell_type": "code",
   "execution_count": 7,
   "id": "d4a8177f",
   "metadata": {},
   "outputs": [
    {
     "name": "stdout",
     "output_type": "stream",
     "text": [
      "7\n"
     ]
    }
   ],
   "source": [
    "# Q4: BONUS – Write a lambda to find maximum of two numbers.\n",
    "# Example: input 4, 9 -> output 9\n",
    "\n",
    "max=lambda a,b:a if a>b else b\n",
    "print(max(5,7))"
   ]
  }
 ],
 "metadata": {
  "kernelspec": {
   "display_name": "Python 3",
   "language": "python",
   "name": "python3"
  },
  "language_info": {
   "codemirror_mode": {
    "name": "ipython",
    "version": 3
   },
   "file_extension": ".py",
   "mimetype": "text/x-python",
   "name": "python",
   "nbconvert_exporter": "python",
   "pygments_lexer": "ipython3",
   "version": "3.11.9"
  }
 },
 "nbformat": 4,
 "nbformat_minor": 5
}
