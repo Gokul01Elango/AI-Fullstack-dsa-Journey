{
 "cells": [
  {
   "cell_type": "markdown",
   "id": "e258042d",
   "metadata": {},
   "source": [
    "🔹 Concept: What Is a Class and Object?\n",
    "    A class is a blueprint/template.\n",
    "    An object is an actual instance built using that class."
   ]
  },
  {
   "cell_type": "code",
   "execution_count": null,
   "id": "84da248e",
   "metadata": {},
   "outputs": [],
   "source": [
    "class Car:\n",
    "    pass    #used to avoid syntax error when block is empty.Plan structure before logic\n",
    "\n",
    "my_car = Car()  # Object created\n"
   ]
  },
  {
   "cell_type": "markdown",
   "id": "52dabf1b",
   "metadata": {},
   "source": [
    "## 🧱 Step 1 – Classes & Objects: Practice\n",
    "🎯 Goal: Create basic classes and instantiate objects"
   ]
  },
  {
   "cell_type": "code",
   "execution_count": null,
   "id": "456c63fb",
   "metadata": {},
   "outputs": [],
   "source": [
    "# Q1: Create a class `Mobile` with no attributes/methods. Create 2 objects: samsung, iphone\n",
    "\n",
    "class Mobile : \n",
    "    pass\n",
    "samsung= Mobile()\n",
    "iphone = Mobile()\n"
   ]
  },
  {
   "cell_type": "code",
   "execution_count": null,
   "id": "bd85d3e1",
   "metadata": {},
   "outputs": [],
   "source": [
    "# Q2: Create a class `Student`. Use `pass`. Create an object for yourself and one for a friend.\n",
    "\n",
    "class Student:\n",
    "    pass\n",
    "myself=Student()\n",
    "friend = Student()\n"
   ]
  },
  {
   "cell_type": "code",
   "execution_count": null,
   "id": "faf11b4d",
   "metadata": {},
   "outputs": [
    {
     "name": "stdout",
     "output_type": "stream",
     "text": [
      "139697036037520\n",
      "<class '__main__.Book'>\n"
     ]
    }
   ],
   "source": [
    "# Q3: Create a class `Book`. Instantiate an object and print its type.\n",
    "\n",
    "# Example output: <class '__main__.Book'>\n",
    "\n",
    "# Q4: Create a class `Bike`. Make 3 objects: hero, honda, royal.\n",
    "# Q5: BONUS – Print the memory address of any one object using `print(id(object_name))`\n",
    "\n",
    "class Book:\n",
    "    pass\n",
    "bookid=Book()\n",
    "bookname=Book()\n",
    "print(id(bookid))\n",
    "print(type(bookname))"
   ]
  }
 ],
 "metadata": {
  "kernelspec": {
   "display_name": "Python 3",
   "language": "python",
   "name": "python3"
  },
  "language_info": {
   "codemirror_mode": {
    "name": "ipython",
    "version": 3
   },
   "file_extension": ".py",
   "mimetype": "text/x-python",
   "name": "python",
   "nbconvert_exporter": "python",
   "pygments_lexer": "ipython3",
   "version": "3.11.9"
  }
 },
 "nbformat": 4,
 "nbformat_minor": 5
}
