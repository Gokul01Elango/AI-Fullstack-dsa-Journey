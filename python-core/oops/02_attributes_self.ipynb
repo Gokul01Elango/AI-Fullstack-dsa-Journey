{
 "cells": [
  {
   "cell_type": "markdown",
   "id": "723894cd",
   "metadata": {},
   "source": [
    "🧱 OOP Step 2: Attributes & the self Keyword\n",
    "\n",
    "🔹 Concept Recap\n",
    "\n",
    "    1. self is used to access instance variables (data inside the object).\n",
    "\n",
    "    2. __init__() is the constructor – it runs automatically when you create an object.\n",
    "\n",
    "    3. Attributes are created inside __init__().\n",
    "\n"
   ]
  },
  {
   "cell_type": "code",
   "execution_count": null,
   "id": "a060cc95",
   "metadata": {},
   "outputs": [],
   "source": [
    "## ✅ Step 2: Attributes & `self` Keyword\n",
    "#🎯 Goal: Learn how to store and access data inside objects using `__init__()` and `self`."
   ]
  },
  {
   "cell_type": "code",
   "execution_count": 5,
   "id": "8134be74",
   "metadata": {},
   "outputs": [
    {
     "name": "stdout",
     "output_type": "stream",
     "text": [
      "Gokul 22 99\n"
     ]
    }
   ],
   "source": [
    "#Practice code\n",
    "class Student:\n",
    "    def __init__(self,name,age,marks):\n",
    "        self.name=name\n",
    "        self.age=age\n",
    "        self.marks=marks\n",
    "\n",
    "s1=Student(\"Gokul\",22,99)\n",
    "print(s1.name ,s1.age ,s1.marks)"
   ]
  },
  {
   "cell_type": "code",
   "execution_count": 6,
   "id": "211b04ea",
   "metadata": {},
   "outputs": [
    {
     "name": "stdout",
     "output_type": "stream",
     "text": [
      "Gokul Karur\n",
      "Nithya Trichy\n"
     ]
    }
   ],
   "source": [
    "# Q1: Create a class `Person` with attributes: name, city\n",
    "# Create 2 objects with different names and cities. Print them.\n",
    "\n",
    "class Person:\n",
    "    def __init__(self,name,city):\n",
    "        self.name=name\n",
    "        self.city=city\n",
    "\n",
    "p1=Person(\"Gokul\",\"Karur\")\n",
    "print(p1.name,p1.city)\n",
    "p2=Person(\"Nithya\",\"Trichy\")\n",
    "print(p2.name,p2.city)"
   ]
  },
  {
   "cell_type": "code",
   "execution_count": 8,
   "id": "a8f38a85",
   "metadata": {},
   "outputs": [
    {
     "name": "stdout",
     "output_type": "stream",
     "text": [
      "Breath becomes Air\n",
      "499\n",
      "pal kalanidhi\n"
     ]
    }
   ],
   "source": [
    "# Q2: Create a class `Book` with attributes: title, author, price\n",
    "# Create one book object and print all 3 values.\n",
    "\n",
    "class Book:\n",
    "    def __init__(self,title,author,price):\n",
    "        self.title=title\n",
    "        self.author=author\n",
    "        self.price=price\n",
    "b1=Book(\"Breath becomes Air\",\"pal kalanidhi\",499)\n",
    "print(b1.title)\n",
    "print(b1.price)\n",
    "print(b1.author)"
   ]
  },
  {
   "cell_type": "code",
   "execution_count": 9,
   "id": "5f27c0ea",
   "metadata": {},
   "outputs": [
    {
     "name": "stdout",
     "output_type": "stream",
     "text": [
      "Asus\n",
      "Lenova\n"
     ]
    }
   ],
   "source": [
    "# Q3: Create a class `Laptop` with attributes: brand, ram, price\n",
    "# Create 2 objects. Print only brand of both using objectname.brand\n",
    "\n",
    "class Laptop : \n",
    "    def __init__(self,brand,ram,price):\n",
    "        self.brand=brand\n",
    "        self.ram=ram\n",
    "        self.price=price\n",
    "l1=Laptop(\"Lenova\",8,20000)\n",
    "l2=Laptop(\"Asus\",16,40000)\n",
    "\n",
    "print(l2.brand)\n",
    "print(l1.brand)"
   ]
  },
  {
   "cell_type": "code",
   "execution_count": 10,
   "id": "d9f2d37e",
   "metadata": {},
   "outputs": [
    {
     "name": "stdout",
     "output_type": "stream",
     "text": [
      "Name :  Gokul Salary :  40000\n"
     ]
    }
   ],
   "source": [
    "# Q4: Create a class `Employee` with name and salary.\n",
    "# Print \"Name: <name>, Salary: ₹<salary>\" using f-string\n",
    "\n",
    "class Employee:\n",
    "    def __init__(self,name,salary):\n",
    "        self.name=name\n",
    "        self.salary=salary\n",
    "e1=Employee(\"Gokul\",40000)\n",
    "print(\"Name : \",e1.name,\"Salary : \",e1.salary)"
   ]
  },
  {
   "cell_type": "code",
   "execution_count": 12,
   "id": "44e8b700",
   "metadata": {},
   "outputs": [
    {
     "name": "stdout",
     "output_type": "stream",
     "text": [
      "Mobile Nokia with 8 created\n"
     ]
    }
   ],
   "source": [
    "# Q5: BONUS – Create a class `Mobile`. Inside `__init__`, print:\n",
    "# \"Mobile <brand> with <ram> RAM created\"\n",
    "# Create an object and see the output.\n",
    "\n",
    "class Mobile : \n",
    "    def __init__(self,brand,ram):\n",
    "        self.brand=brand\n",
    "        self.ram=ram\n",
    "        print(\"Mobile\",brand,\"with\",ram,\"created\")\n",
    "m1=Mobile(\"Nokia\",8)"
   ]
  }
 ],
 "metadata": {
  "kernelspec": {
   "display_name": "Python 3",
   "language": "python",
   "name": "python3"
  },
  "language_info": {
   "codemirror_mode": {
    "name": "ipython",
    "version": 3
   },
   "file_extension": ".py",
   "mimetype": "text/x-python",
   "name": "python",
   "nbconvert_exporter": "python",
   "pygments_lexer": "ipython3",
   "version": "3.11.9"
  }
 },
 "nbformat": 4,
 "nbformat_minor": 5
}
