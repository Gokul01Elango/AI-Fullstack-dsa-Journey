{
 "cells": [
  {
   "cell_type": "markdown",
   "id": "6e981d43",
   "metadata": {},
   "source": [
    "# 📘 Python OOP: Instance Methods, Class Methods, Static Methods\n",
    "\n",
    "---\n",
    "\n",
    "## 🛠️ Instance Methods\n",
    "\n",
    "- Instance methods work on **individual objects (instances)**.\n",
    "- Use the **`self` keyword** to refer to the current object.\n",
    "- Instance methods can access and modify **instance variables**.\n",
    "- Define **object-specific behavior**.\n",
    "- Example Use Case: Display or update a student's name or account balance.\n",
    "\n",
    "---\n",
    "\n",
    "## 🏛️ Class Methods\n",
    "\n",
    "- Class methods work on the **class itself**, not individual objects.\n",
    "- Use the **`@classmethod` decorator**.\n",
    "- Use the **`cls` keyword** to refer to the class.\n",
    "- Class methods can access and modify **class variables**.\n",
    "- Useful for making changes that should apply to **all objects** of that class.\n",
    "- Example Use Case: Changing a company's shared interest rate or school name.\n",
    "\n",
    "---\n",
    "\n",
    "## ⚙️ Static Methods\n",
    "\n",
    "- Static methods are independent of both **class and instance variables**.\n",
    "- Use the **`@staticmethod` decorator**.\n",
    "- Do **not use** `self` or `cls` inside static methods.\n",
    "- Typically used for **standard operations**, helper functions, or validations related to the class, but not dependent on class or object state.\n",
    "- Example Use Case: Checking if an account number is valid or performing a calculation.\n",
    "\n",
    "---\n",
    "\n",
    "## 📊 Summary Table\n",
    "\n",
    "| Method Type      | Reference Keyword | Decorator         | Purpose                                |\n",
    "|------------------|-------------------|-------------------|----------------------------------------|\n",
    "| Instance Method  | `self`            | *(none)*          | Object-level data and behavior         |\n",
    "| Class Method     | `cls`             | `@classmethod`    | Class-level data, shared changes       |\n",
    "| Static Method    | None              | `@staticmethod`   | Independent utilities and operations   |\n",
    "\n",
    "---\n",
    "\n",
    "## 🎯 Quick Overview\n",
    "\n",
    "- **Instance Method**: Defines behavior specific to each object.\n",
    "- **Class Method**: Used for operations affecting the entire class (shared data).\n",
    "- **Static Method**: Used for unrelated operations but grouped logically inside the class.\n",
    "\n",
    "---\n",
    "\n",
    "## 💡 Why Use Them?\n",
    "\n",
    "- Organize your code clearly using appropriate method types.\n",
    "- Encapsulate functionality where it logically belongs (inside the class).\n",
    "- Control and protect data flow between objects, class, and external code.\n",
    "\n",
    "---\n"
   ]
  },
  {
   "cell_type": "markdown",
   "id": "ce633671",
   "metadata": {},
   "source": [
    "## ✅ Step 8: Class Methods & Static Methods\n",
    "🎯 Goal: Learn `@classmethod` and `@staticmethod` usage."
   ]
  },
  {
   "cell_type": "code",
   "execution_count": 7,
   "id": "97137846",
   "metadata": {},
   "outputs": [
    {
     "name": "stdout",
     "output_type": "stream",
     "text": [
      "23\n",
      "4\n"
     ]
    }
   ],
   "source": [
    "# Q1: Create class `Car` with class variable `wheels = 4`.\n",
    "# Create method `show_wheels()` using @classmethod that prints current wheel count.\n",
    "# Call via class and object.\n",
    "\n",
    "class Car:\n",
    "    wheels=4\n",
    "    def show_wheels(self):\n",
    "        self.wheels=23\n",
    "        print(self.wheels)\n",
    "c1=Car()\n",
    "c1.show_wheels()\n",
    "print(Car.wheels)\n"
   ]
  },
  {
   "cell_type": "code",
   "execution_count": 8,
   "id": "0266771c",
   "metadata": {},
   "outputs": [
    {
     "name": "stdout",
     "output_type": "stream",
     "text": [
      "Cars are personal Vehicles\n"
     ]
    }
   ],
   "source": [
    "# Q2: Add @staticmethod method `general_info()` to `Car` that prints \"Cars are personal vehicles.\"\n",
    "# Call it directly via class.\n",
    "\n",
    "class Car:\n",
    "    def general_info():\n",
    "        print(\"Cars are personal Vehicles\")\n",
    "\n",
    "Car.general_info()"
   ]
  }
 ],
 "metadata": {
  "kernelspec": {
   "display_name": "Python 3",
   "language": "python",
   "name": "python3"
  },
  "language_info": {
   "codemirror_mode": {
    "name": "ipython",
    "version": 3
   },
   "file_extension": ".py",
   "mimetype": "text/x-python",
   "name": "python",
   "nbconvert_exporter": "python",
   "pygments_lexer": "ipython3",
   "version": "3.11.9"
  }
 },
 "nbformat": 4,
 "nbformat_minor": 5
}
