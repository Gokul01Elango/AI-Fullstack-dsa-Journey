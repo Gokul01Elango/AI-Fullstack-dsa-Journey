{
 "cells": [
  {
   "cell_type": "markdown",
   "id": "fc8bd8c1",
   "metadata": {},
   "source": [
    "📦 Common Magic Methods (Cheat Sheet)\n",
    "\n",
    "| Category           | Method                       | Use for...                           |\n",
    "| ------------------ | ---------------------------- | ------------------------------------ |\n",
    "| Object Creation    | `__init__()`                 | Setup object when created            |\n",
    "| Printing           | `__str__()`                  | User-friendly print output           |\n",
    "| Debug Print        | `__repr__()`                 | Developer-friendly representation    |\n",
    "| Addition           | `__add__()`                  | Use `+` on objects                   |\n",
    "| Subtraction        | `__sub__()`                  | Use `-` on objects                   |\n",
    "| Multiplication     | `__mul__()`                  | Use `*` on objects                   |\n",
    "| Equality           | `__eq__()`                   | Use `==` to compare objects          |\n",
    "| Greater Than       | `__gt__()`                   | Use `>` between objects              |\n",
    "| Length             | `__len__()`                  | Use `len()` on your object           |\n",
    "| Indexing           | `__getitem__()`              | Allow indexing (`obj[0]`)            |\n",
    "| Callable           | `__call__()`                 | Make object callable like a function |\n",
    "| Context Management | `__enter__()` / `__exit__()` | With blocks (advanced)               |\n"
   ]
  },
  {
   "cell_type": "code",
   "execution_count": 42,
   "id": "45b9858f",
   "metadata": {},
   "outputs": [
    {
     "name": "stdout",
     "output_type": "stream",
     "text": [
      "75\n",
      "GokulAdminArvind\n"
     ]
    }
   ],
   "source": [
    "class Student:\n",
    "    def __init__(self,name,age):\n",
    "        self.name=name\n",
    "        self.age=age\n",
    "    def __str__(self):\n",
    "        return self.age\n",
    "    def __add__(self,other):\n",
    "        total_age=self.age+other.age\n",
    "        con_name=self.name+other.name\n",
    "        return Student(con_name,total_age)\n",
    "s1=Student(\"Gokul\",22)\n",
    "s2=Student(\"Admin\",32)\n",
    "s3=Student(\"Arvind\",21)\n",
    "result=s1+s2+s3\n",
    "print(result.age)\n",
    "print(result.name)\n",
    "# print(s2)"
   ]
  },
  {
   "cell_type": "markdown",
   "id": "028b79af",
   "metadata": {},
   "source": [
    "\n",
    "📄 Magic Methods – Practice Tasks\n",
    "\n",
    "🎯 Goal: Master customizing object behaviors using magic (dunder) methods."
   ]
  },
  {
   "cell_type": "code",
   "execution_count": 48,
   "id": "cdbd5277",
   "metadata": {},
   "outputs": [
    {
     "name": "stdout",
     "output_type": "stream",
     "text": [
      "20\n",
      "Intelligent investor\n"
     ]
    }
   ],
   "source": [
    "# Q1: Create class Book(title, pages).\n",
    "# Use __str__() to print: \"Book: <title>\"\n",
    "\n",
    "# Q2: Add __len__() to Book to return number of pages.\n",
    "# Call len(object) to check.\n",
    "\n",
    "class Book:\n",
    "    def __init__(self,title):\n",
    "        self.title=title\n",
    "    def __len__(self):\n",
    "        return len(self.title)\n",
    "    def __str__(self):\n",
    "        return self.title\n",
    "\n",
    "b1=Book(\"Intelligent investor\")\n",
    "\n",
    "print(len(b1))\n",
    "print(b1)\n"
   ]
  },
  {
   "cell_type": "code",
   "execution_count": null,
   "id": "b708180e",
   "metadata": {},
   "outputs": [
    {
     "name": "stdout",
     "output_type": "stream",
     "text": [
      "57\n"
     ]
    }
   ],
   "source": [
    "# Q3: Create class Box(weight).\n",
    "# Overload __add__() so box1 + box2 returns combined weight.\n",
    "\n",
    "class Box:\n",
    "    def __init__(self,weight):\n",
    "        self.weight=weight\n",
    "    def __add__(self,other):\n",
    "        total=str(self.weight+other.weight)\n",
    "        return total\n",
    "b1=Box(23)\n",
    "b2=Box(34)\n",
    "print(b1+b2)\n"
   ]
  },
  {
   "cell_type": "code",
   "execution_count": 66,
   "id": "6b7dffb2",
   "metadata": {},
   "outputs": [
    {
     "name": "stdout",
     "output_type": "stream",
     "text": [
      "-1200\n"
     ]
    }
   ],
   "source": [
    "\n",
    "# Q4: Create class Wallet(amount).\n",
    "# Overload __sub__() so wallet1 - wallet2 returns difference.\n",
    "\n",
    "class Wallet:\n",
    "    def __init__(self,amount):\n",
    "        self.amount=amount\n",
    "    def __sub__(self,other):\n",
    "        sub=self.amount-other.amount\n",
    "        return sub\n",
    "w1=Wallet(1200)\n",
    "w2=Wallet(2400)\n",
    "print(w1-w2)\n",
    "\n",
    "\n",
    "# Q5: Create class Student(marks).\n",
    "# Overload __gt__() to compare two students based on marks.\n",
    "# Example: student1 > student2 should return True/False.\n"
   ]
  }
 ],
 "metadata": {
  "kernelspec": {
   "display_name": "Python 3",
   "language": "python",
   "name": "python3"
  },
  "language_info": {
   "codemirror_mode": {
    "name": "ipython",
    "version": 3
   },
   "file_extension": ".py",
   "mimetype": "text/x-python",
   "name": "python",
   "nbconvert_exporter": "python",
   "pygments_lexer": "ipython3",
   "version": "3.11.9"
  }
 },
 "nbformat": 4,
 "nbformat_minor": 5
}
