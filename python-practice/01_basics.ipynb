{
 "cells": [
  {
   "cell_type": "markdown",
   "id": "ce9dd424",
   "metadata": {},
   "source": [
    "# 🧠 Python Basics – Data Types & Variables\n",
    "_Author: Gokul | Date: 2025-07-05_"
   ]
  },
  {
   "cell_type": "markdown",
   "id": "eda85fef",
   "metadata": {},
   "source": [
    "## 🎯 Objectives:\n",
    "- Understand basic data types in Python\n",
    "- Learn how to declare and use variables\n",
    "- Practice type checking and conversion\n"
   ]
  },
  {
   "cell_type": "code",
   "execution_count": 8,
   "id": "96cb9fc2",
   "metadata": {},
   "outputs": [
    {
     "name": "stdout",
     "output_type": "stream",
     "text": [
      "10 21.23 string True\n",
      "<class 'int'> | <class 'str'> | <class 'str'> | <class 'bool'>\n",
      "31.23\n"
     ]
    }
   ],
   "source": [
    "a=10\n",
    "b='21.23'\n",
    "c=\"string\"\n",
    "d=True\n",
    "print (a,b,c,d)\n",
    "print(type(a) , end = \" | \")\n",
    "print(type(b), end = \" | \")\n",
    "print(type(c), end = \" | \")\n",
    "print(type(d))\n",
    "print(a+float(b))"
   ]
  },
  {
   "cell_type": "markdown",
   "id": "d3411359",
   "metadata": {},
   "source": [
    "## 📝 Notes:\n",
    "- Use `type()` to check variable type\n",
    "- `int()`, `float()`, `str()` can convert values\n"
   ]
  },
  {
   "cell_type": "code",
   "execution_count": 9,
   "id": "3ba01ac3",
   "metadata": {},
   "outputs": [
    {
     "name": "stdout",
     "output_type": "stream",
     "text": [
      "Hi ,  Gokul You are  22  Years old\n"
     ]
    }
   ],
   "source": [
    "# TODO: Write a program that asks your name and age and prints a greeting\n",
    "name =input(\"Your Name : \")\n",
    "age = input (\"Your Age : \")\n",
    "print(\"Hi , \",name,\"You are \",age,\" Years old\")"
   ]
  },
  {
   "cell_type": "markdown",
   "id": "be097422",
   "metadata": {},
   "source": []
  }
 ],
 "metadata": {
  "kernelspec": {
   "display_name": ".venv",
   "language": "python",
   "name": "python3"
  },
  "language_info": {
   "codemirror_mode": {
    "name": "ipython",
    "version": 3
   },
   "file_extension": ".py",
   "mimetype": "text/x-python",
   "name": "python",
   "nbconvert_exporter": "python",
   "pygments_lexer": "ipython3",
   "version": "3.11.9"
  }
 },
 "nbformat": 4,
 "nbformat_minor": 5
}
