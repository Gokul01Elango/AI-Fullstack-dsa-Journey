{
 "cells": [
  {
   "cell_type": "markdown",
   "id": "989c03db",
   "metadata": {},
   "source": [
    "## 🔁 Python Loops Mastery Tasks\n",
    "🎯 Goal: Practice every loop pattern with logic, input, output, and iteration"
   ]
  },
  {
   "cell_type": "code",
   "execution_count": 5,
   "id": "def14c6a",
   "metadata": {},
   "outputs": [
    {
     "name": "stdout",
     "output_type": "stream",
     "text": [
      "1,2,3,4,5,6,7,8,9,10,"
     ]
    }
   ],
   "source": [
    "# Q1: Print numbers from 1 to 50 using a for loop\n",
    "\n",
    "for i in range(1,11):\n",
    "    print(i,end=',')"
   ]
  },
  {
   "cell_type": "code",
   "execution_count": 7,
   "id": "cb83aa32",
   "metadata": {},
   "outputs": [
    {
     "name": "stdout",
     "output_type": "stream",
     "text": [
      "0,1,2,3,4,5,6,7,8,9,10,"
     ]
    }
   ],
   "source": [
    "# Q2: Print even numbers from 1 to 100 using range\n",
    "for i in range (11):\n",
    "    print(i,end=',')"
   ]
  },
  {
   "cell_type": "code",
   "execution_count": 10,
   "id": "95e75318",
   "metadata": {},
   "outputs": [
    {
     "name": "stdout",
     "output_type": "stream",
     "text": [
      "100 81 64 49 36 25 16 9 4 1 "
     ]
    }
   ],
   "source": [
    "# Q3: Print the square of all numbers from 10 to 1 (reverse loop)\n",
    "for i in range (10,0,-1):\n",
    "    print(i*i,end=' ')"
   ]
  },
  {
   "cell_type": "code",
   "execution_count": 11,
   "id": "335cdeab",
   "metadata": {},
   "outputs": [
    {
     "name": "stdout",
     "output_type": "stream",
     "text": [
      "0*4= 0\n",
      "1*4= 4\n",
      "2*4= 8\n",
      "3*4= 12\n",
      "4*4= 16\n",
      "5*4= 20\n",
      "6*4= 24\n",
      "7*4= 28\n",
      "8*4= 32\n",
      "9*4= 36\n",
      "10*4= 40\n"
     ]
    }
   ],
   "source": [
    "# Q4: Print the multiplication table of a number entered by user (1 to 10)\n",
    "input=int(input())\n",
    "for i in range(11):\n",
    "    print(f\"{i}*{input}=\",i*input)"
   ]
  },
  {
   "cell_type": "code",
   "execution_count": null,
   "id": "62ef7d38",
   "metadata": {},
   "outputs": [],
   "source": [
    "# Q5: Loop through numbers 1 to 50:\n",
    "# - Print \"Fizz\" if divisible by 3\n",
    "# - \"Buzz\" if divisible by 5\n",
    "# - \"FizzBuzz\" if divisible by both\n",
    "\n",
    "for i in range(50):\n",
    "    if i%3==0:\n",
    "        print(\"Fizz\")\n",
    "    elif i%5==0:\n",
    "        print(\"Buzz\")\n",
    "    elif i%5==0 and i%3==0 :\n",
    "        print(\"FizzBuzz\")"
   ]
  },
  {
   "cell_type": "markdown",
   "id": "78b88e7f",
   "metadata": {},
   "source": [
    "While Loop"
   ]
  },
  {
   "cell_type": "code",
   "execution_count": 21,
   "id": "f4b07790",
   "metadata": {},
   "outputs": [
    {
     "ename": "TypeError",
     "evalue": "'int' object is not callable",
     "output_type": "error",
     "traceback": [
      "\u001b[31m---------------------------------------------------------------------------\u001b[39m",
      "\u001b[31mTypeError\u001b[39m                                 Traceback (most recent call last)",
      "\u001b[36mCell\u001b[39m\u001b[36m \u001b[39m\u001b[32mIn[21]\u001b[39m\u001b[32m, line 2\u001b[39m\n\u001b[32m      1\u001b[39m total = \u001b[32m0\u001b[39m\n\u001b[32m----> \u001b[39m\u001b[32m2\u001b[39m val = \u001b[38;5;28mint\u001b[39m(\u001b[38;5;28;43minput\u001b[39;49m\u001b[43m(\u001b[49m\u001b[33;43m\"\u001b[39;49m\u001b[33;43mEnter a number (0 to stop): \u001b[39;49m\u001b[33;43m\"\u001b[39;49m\u001b[43m)\u001b[49m)\n\u001b[32m      4\u001b[39m \u001b[38;5;28;01mwhile\u001b[39;00m val != \u001b[32m0\u001b[39m:\n\u001b[32m      5\u001b[39m     total += val\n",
      "\u001b[31mTypeError\u001b[39m: 'int' object is not callable"
     ]
    }
   ],
   "source": [
    "total = 0\n",
    "val = int(input(\"Enter a number (0 to stop): \"))\n",
    "\n",
    "while val != 0:\n",
    "    total += val\n",
    "    val = int(input(\"Enter a number (0 to stop): \"))\n",
    "\n",
    "print(\"Total sum:\", total)\n"
   ]
  }
 ],
 "metadata": {
  "kernelspec": {
   "display_name": ".venv",
   "language": "python",
   "name": "python3"
  },
  "language_info": {
   "codemirror_mode": {
    "name": "ipython",
    "version": 3
   },
   "file_extension": ".py",
   "mimetype": "text/x-python",
   "name": "python",
   "nbconvert_exporter": "python",
   "pygments_lexer": "ipython3",
   "version": "3.13.2"
  }
 },
 "nbformat": 4,
 "nbformat_minor": 5
}
