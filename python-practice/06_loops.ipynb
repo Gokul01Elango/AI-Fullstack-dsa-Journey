{
 "cells": [
  {
   "cell_type": "markdown",
   "id": "989c03db",
   "metadata": {},
   "source": [
    "## 🔁 Python Loops Mastery Tasks\n",
    "🎯 Goal: Practice every loop pattern with logic, input, output, and iteration"
   ]
  },
  {
   "cell_type": "code",
   "execution_count": 5,
   "id": "def14c6a",
   "metadata": {},
   "outputs": [
    {
     "name": "stdout",
     "output_type": "stream",
     "text": [
      "1,2,3,4,5,6,7,8,9,10,"
     ]
    }
   ],
   "source": [
    "# Q1: Print numbers from 1 to 50 using a for loop\n",
    "\n",
    "for i in range(1,11):\n",
    "    print(i,end=',')"
   ]
  },
  {
   "cell_type": "code",
   "execution_count": 7,
   "id": "cb83aa32",
   "metadata": {},
   "outputs": [
    {
     "name": "stdout",
     "output_type": "stream",
     "text": [
      "0,1,2,3,4,5,6,7,8,9,10,"
     ]
    }
   ],
   "source": [
    "# Q2: Print even numbers from 1 to 100 using range\n",
    "for i in range (11):\n",
    "    print(i,end=',')"
   ]
  },
  {
   "cell_type": "code",
   "execution_count": 10,
   "id": "95e75318",
   "metadata": {},
   "outputs": [
    {
     "name": "stdout",
     "output_type": "stream",
     "text": [
      "100 81 64 49 36 25 16 9 4 1 "
     ]
    }
   ],
   "source": [
    "# Q3: Print the square of all numbers from 10 to 1 (reverse loop)\n",
    "for i in range (10,0,-1):\n",
    "    print(i*i,end=' ')"
   ]
  },
  {
   "cell_type": "code",
   "execution_count": 1,
   "id": "335cdeab",
   "metadata": {},
   "outputs": [
    {
     "name": "stdout",
     "output_type": "stream",
     "text": [
      "0*11= 0\n",
      "1*11= 11\n",
      "2*11= 22\n",
      "3*11= 33\n",
      "4*11= 44\n",
      "5*11= 55\n",
      "6*11= 66\n",
      "7*11= 77\n",
      "8*11= 88\n",
      "9*11= 99\n",
      "10*11= 110\n"
     ]
    }
   ],
   "source": [
    "# Q4: Print the multiplication table of a number entered by user (1 to 10)\n",
    "user_input = int(input())\n",
    "for i in range(11):\n",
    "    print(f\"{i}*{user_input}=\",i*user_input)"
   ]
  },
  {
   "cell_type": "code",
   "execution_count": null,
   "id": "62ef7d38",
   "metadata": {},
   "outputs": [],
   "source": [
    "# Q5: Loop through numbers 1 to 50:\n",
    "# - Print \"Fizz\" if divisible by 3\n",
    "# - \"Buzz\" if divisible by 5\n",
    "# - \"FizzBuzz\" if divisible by both\n",
    "\n",
    "for i in range(50):\n",
    "    if i%3==0:\n",
    "        print(\"Fizz\")\n",
    "    elif i%5==0:\n",
    "        print(\"Buzz\")\n",
    "    elif i%5==0 and i%3==0 :\n",
    "        print(\"FizzBuzz\")"
   ]
  },
  {
   "cell_type": "markdown",
   "id": "78b88e7f",
   "metadata": {},
   "source": [
    "While Loop"
   ]
  },
  {
   "cell_type": "code",
   "execution_count": 2,
   "id": "f4b07790",
   "metadata": {},
   "outputs": [
    {
     "name": "stdout",
     "output_type": "stream",
     "text": [
      "Total sum: 55\n"
     ]
    }
   ],
   "source": [
    "total = 0\n",
    "val = int(input(\"Enter a number (0 to stop): \"))\n",
    "\n",
    "while val != 0:\n",
    "    total += val\n",
    "    val = int(input(\"Enter a number (0 to stop): \"))\n",
    "\n",
    "print(\"Total sum:\", total)\n"
   ]
  }
 ],
 "metadata": {
  "kernelspec": {
   "display_name": ".venv",
   "language": "python",
   "name": "python3"
  },
  "language_info": {
   "codemirror_mode": {
    "name": "ipython",
    "version": 3
   },
   "file_extension": ".py",
   "mimetype": "text/x-python",
   "name": "python",
   "nbconvert_exporter": "python",
   "pygments_lexer": "ipython3",
   "version": "3.13.2"
  }
 },
 "nbformat": 4,
 "nbformat_minor": 5
}
