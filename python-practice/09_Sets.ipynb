{
 "cells": [
  {
   "cell_type": "markdown",
   "id": "866dd73b",
   "metadata": {},
   "source": [
    "🎯 Developer Summary\n",
    "✅ Set Basics:\n",
    "\n",
    "    Unordered\n",
    "\n",
    "    No duplicates\n",
    "\n",
    "    Mutable (can add/remove items)\n",
    "\n",
    "    Uses {} brackets\n"
   ]
  },
  {
   "cell_type": "code",
   "execution_count": null,
   "id": "f9091243",
   "metadata": {},
   "outputs": [],
   "source": [
    "my_set = {1, 2, 3, 2, 1}\n",
    "print(my_set)  # {1, 2, 3}"
   ]
  },
  {
   "cell_type": "markdown",
   "id": "9a9b395c",
   "metadata": {},
   "source": [
    "| Method           | Purpose                             |\n",
    "| ---------------- | ----------------------------------- |\n",
    "| `add()`          | Add an element                      |\n",
    "| `remove()`       | Remove item (error if not exists)   |\n",
    "| `discard()`      | Remove item (no error if missing)   |\n",
    "| `pop()`          | Remove random item                  |\n",
    "| `clear()`        | Remove all elements                 |\n",
    "| `union(set2)`    | Combine sets                        |\n",
    "| `intersection()` | Common elements                     |\n",
    "| `difference()`   | Elements in set1 not in set2        |\n",
    "| `issubset()`     | Check if one set is subset of other |\n",
    "| `issuperset()`   | Check if one set contains another   |\n",
    "\n",
    "## 🧺 Concept 9: Sets – Practice Tasks\n",
    "🎯 Focus: unique values, membership, set operations\n"
   ]
  },
  {
   "cell_type": "code",
   "execution_count": null,
   "id": "15cfd416",
   "metadata": {},
   "outputs": [
    {
     "name": "stdout",
     "output_type": "stream",
     "text": [
      "{'cherry', 'apple', 'orange'}\n"
     ]
    }
   ],
   "source": [
    "# Q1: Create a set with items: \"apple\", \"banana\", \"cherry\"\n",
    "# - Add \"orange\"\n",
    "# - Remove \"banana\"\n",
    "\n",
    "# print(\"Set\")\n",
    "\n",
    "fruits = {\"apple\",\"banana\",\"cherry\"}\n",
    "\n",
    "fruits.add(\"orange\")\n",
    "fruits.remove(\"banana\")\n",
    "\n",
    "print(fruits)"
   ]
  },
  {
   "cell_type": "code",
   "execution_count": 6,
   "id": "b1dc0ba6",
   "metadata": {},
   "outputs": [
    {
     "name": "stdout",
     "output_type": "stream",
     "text": [
      "(1, 2, 3, 1, 2, 4, 5)\n",
      "{1, 2, 3, 4, 5}\n"
     ]
    }
   ],
   "source": [
    "# Q2: Convert the list to a set to remove duplicates:\n",
    "# [1, 2, 3, 1, 2, 4, 5]\n",
    "\n",
    "lists = [1, 2, 3, 1, 2, 4, 5]\n",
    "\n",
    "values=set(lists)\n",
    "value_set=set(lists)\n",
    "value_tuple=tuple(lists)\n",
    "print(value_tuple)\n",
    "print(value_set)"
   ]
  },
  {
   "cell_type": "code",
   "execution_count": null,
   "id": "0e393b49",
   "metadata": {},
   "outputs": [
    {
     "name": "stdout",
     "output_type": "stream",
     "text": [
      "{1, 2, 3, 4, 5, 6}\n",
      "{1, 2}\n",
      "{3, 4}\n",
      "False\n"
     ]
    }
   ],
   "source": [
    "# Q4: Create two sets:\n",
    "# - A = {1, 2, 3, 4}, B = {3, 4, 5, 6}\n",
    "# - Print union\n",
    "# - Print intersection\n",
    "# - Print difference A - B and B - A\n",
    "\n",
    "A={1,2,3,4}\n",
    "B={3,4,5,6}\n",
    "print(A.union(B))\n",
    "print(A.difference(B))\n",
    "print(A.intersection(B))\n"
   ]
  },
  {
   "cell_type": "code",
   "execution_count": 10,
   "id": "066a69f2",
   "metadata": {},
   "outputs": [
    {
     "name": "stdout",
     "output_type": "stream",
     "text": [
      "True\n",
      "False\n"
     ]
    }
   ],
   "source": [
    "# Q5: Check if A is a subset of B and if B is a superset of A\n",
    "# A = {1, 2}, B = {1, 2, 3, 4}\n",
    "A={1,2}\n",
    "B={1,2,3,4}\n",
    "print(A.issubset(B))\n",
    "print(A.issuperset(B))"
   ]
  },
  {
   "cell_type": "code",
   "execution_count": 15,
   "id": "06c41621",
   "metadata": {},
   "outputs": [
    {
     "name": "stdout",
     "output_type": "stream",
     "text": [
      "{'i', 'u', 'a', 'e', 'o'}\n"
     ]
    }
   ],
   "source": [
    "# Q6: Create a set of vowels found in a user input sentence\n",
    "# (Hint: use a loop to check and add each vowel)\n",
    "\n",
    "user_input=input()\n",
    "vowels_set=set()\n",
    "for ch in user_input:\n",
    "    if(ch in 'aeiou'):\n",
    "        vowels_set.add(ch)\n",
    "\n",
    "print(vowels_set)\n"
   ]
  },
  {
   "cell_type": "code",
   "execution_count": 26,
   "id": "d2a74136",
   "metadata": {},
   "outputs": [
    {
     "name": "stdout",
     "output_type": "stream",
     "text": [
      "{'l', 'w', 'd', 'r', 'o'}\n"
     ]
    }
   ],
   "source": [
    "# Q7: Use set to check if two strings have common letters\n",
    "# Example: \"hello\", \"world\" → common letters = {'l', 'o'}\n",
    "\n",
    "string_one=\"hello\"\n",
    "string_two=\"world\"\n",
    "\n",
    "print(set(string_one) and set(string_two))\n",
    "\n"
   ]
  },
  {
   "cell_type": "code",
   "execution_count": null,
   "id": "dc50f68b",
   "metadata": {},
   "outputs": [],
   "source": [
    "# Q9: Create a set of all even numbers between 1 and 20\n",
    "# - Use set comprehension\n"
   ]
  }
 ],
 "metadata": {
  "kernelspec": {
   "display_name": ".venv",
   "language": "python",
   "name": "python3"
  },
  "language_info": {
   "codemirror_mode": {
    "name": "ipython",
    "version": 3
   },
   "file_extension": ".py",
   "mimetype": "text/x-python",
   "name": "python",
   "nbconvert_exporter": "python",
   "pygments_lexer": "ipython3",
   "version": "3.11.9"
  }
 },
 "nbformat": 4,
 "nbformat_minor": 5
}
