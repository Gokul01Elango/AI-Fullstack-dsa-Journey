{
 "cells": [
  {
   "cell_type": "markdown",
   "id": "2bcbd4b9",
   "metadata": {},
   "source": [
    "## 🔢 Concept 2: Arithmetic & Conditional Operators\n",
    "### 🎯 Tasks Only — No Theory\n"
   ]
  },
  {
   "cell_type": "code",
   "execution_count": 6,
   "id": "612bf173",
   "metadata": {},
   "outputs": [
    {
     "name": "stdout",
     "output_type": "stream",
     "text": [
      "Addition :  13\n",
      "Subtraction :  7\n",
      "Multiplication :  30\n",
      "Division :  3.3333333333333335\n",
      "Modulus :  1\n",
      "Power :  1000\n"
     ]
    }
   ],
   "source": [
    "# 🧠 Q1: Take two integers as input and perform all arithmetic operations\n",
    "# (Addition, Subtraction, Multiplication, Float Division, Floor Division, Modulus, Power)\n",
    "a=int(input())\n",
    "b=int(input())\n",
    "print(\"Addition : \",a+b)\n",
    "print(\"Subtraction : \",a-b)\n",
    "print(\"Multiplication : \",a*b)\n",
    "print(\"Division : \",a/b)\n",
    "#print(\"Floor Division : \",Math.floor(a/b))\n",
    "print(\"Modulus : \",a%b)\n",
    "print(\"Power : \",a**b)"
   ]
  },
  {
   "cell_type": "code",
   "execution_count": 7,
   "id": "7938f43d",
   "metadata": {
    "vscode": {
     "languageId": "markdown"
    }
   },
   "outputs": [
    {
     "name": "stdout",
     "output_type": "stream",
     "text": [
      "True\n"
     ]
    }
   ],
   "source": [
    "# 🔁 Q2: Find which number is greater between two given numbers using comparison operators\n",
    "\n",
    "print(a>b)\n"
   ]
  },
  {
   "cell_type": "code",
   "execution_count": 9,
   "id": "c97b0180",
   "metadata": {
    "vscode": {
     "languageId": "markdown"
    }
   },
   "outputs": [
    {
     "name": "stdout",
     "output_type": "stream",
     "text": [
      "True\n"
     ]
    }
   ],
   "source": [
    "# 🎯 Q3: Check if a number is even or odd using the modulus operator\n",
    "print(a%2==0)"
   ]
  }
 ],
 "metadata": {
  "kernelspec": {
   "display_name": ".venv",
   "language": "python",
   "name": "python3"
  },
  "language_info": {
   "codemirror_mode": {
    "name": "ipython",
    "version": 3
   },
   "file_extension": ".py",
   "mimetype": "text/x-python",
   "name": "python",
   "nbconvert_exporter": "python",
   "pygments_lexer": "ipython3",
   "version": "3.13.2"
  }
 },
 "nbformat": 4,
 "nbformat_minor": 5
}
