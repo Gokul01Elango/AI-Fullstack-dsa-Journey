{
 "cells": [
  {
   "cell_type": "markdown",
   "id": "2c699a52",
   "metadata": {},
   "source": [
    "## 🧪 Concept 4: Conditional Statements\n",
    "🎯 Practice decision making with if, elif, else, and logical operators."
   ]
  },
  {
   "cell_type": "code",
   "execution_count": 6,
   "id": "07a397af",
   "metadata": {},
   "outputs": [
    {
     "name": "stdout",
     "output_type": "stream",
     "text": [
      "-2323\n",
      "Negative\n"
     ]
    }
   ],
   "source": [
    "# 🔢 Q1: Ask the user for a number and:\n",
    "# - Print \"Positive\" if it's > 0\n",
    "# - Print \"Zero\" if it’s 0\n",
    "# - Print \"Negative\" if it’s < 0\n",
    "\n",
    "number= int(input(\"Enter number\"))\n",
    "print(number)\n",
    "\n",
    "if number>0:\n",
    "    print(\"Positive\")\n",
    "elif number<0 : \n",
    "    print(\"Negative\")\n",
    "else : \n",
    "    print(\"Number is zero\")"
   ]
  },
  {
   "cell_type": "code",
   "execution_count": 11,
   "id": "0aea9db1",
   "metadata": {},
   "outputs": [],
   "source": [
    "# 📚 Q2: Take user's marks and print grade:\n",
    "# - A: >=90, B: >=75, C: >=50, F: <50\n",
    "\n",
    "mark=int(input())\n",
    "if mark>=90:\n",
    "    print(\"Grade A\")\n",
    "elif mark>=75:\n",
    "    print(\"Grade B\")\n",
    "elif mark>=50:\n",
    "    print(\"Grade C\")\n",
    "elif mark>=0: \n",
    "    print(\"Grade D\")"
   ]
  },
  {
   "cell_type": "code",
   "execution_count": 18,
   "id": "cccd37d1",
   "metadata": {},
   "outputs": [
    {
     "name": "stdout",
     "output_type": "stream",
     "text": [
      "Leap Year\n"
     ]
    }
   ],
   "source": [
    "# 📆 Q3: Ask user for a year and check:\n",
    "# - Is it a leap year?\n",
    "# (divisible by 4 and not by 100 unless divisible by 400)\n",
    "\n",
    "year =int(input())\n",
    "\n",
    "if(year%100==0 and year%400==0):\n",
    "    print(\"Leap Year\")\n",
    "elif year%4==0 and not(year%100==0):\n",
    "    print(\"Leap Year\")\n",
    "else :\n",
    "    print(\"Not Leap Year\")"
   ]
  },
  {
   "cell_type": "code",
   "execution_count": 24,
   "id": "d4c2c441",
   "metadata": {},
   "outputs": [
    {
     "name": "stdout",
     "output_type": "stream",
     "text": [
      "Tean\n"
     ]
    }
   ],
   "source": [
    "# 🧠 Q4: Ask user for age:\n",
    "# - 0–12 → \"Child\"\n",
    "# - 13–19 → \"Teen\"\n",
    "# - 20–60 → \"Adult\"\n",
    "# - >60 → \"Senior\"\n",
    "\n",
    "age =int(input())\n",
    "if age>=0 and age<=12:\n",
    "    print(\"Child\")\n",
    "elif age>=13 and age<=19:\n",
    "    print(\"Tean\")\n",
    "elif age>=20 and age<=60:\n",
    "    print(\"Adult\")\n",
    "elif age>=60:\n",
    "    print(\"Senior\")\n",
    "else :\n",
    "    print(\"Enter Valid age\")"
   ]
  },
  {
   "cell_type": "code",
   "execution_count": 25,
   "id": "b2563b88",
   "metadata": {},
   "outputs": [
    {
     "name": "stdout",
     "output_type": "stream",
     "text": [
      "45\n"
     ]
    }
   ],
   "source": [
    "# 🧪 Q5: Ask user for 3 numbers. Print the largest number.\n",
    "\n",
    "a=int(input())\n",
    "b=int(input())\n",
    "c=int(input())\n",
    "\n",
    "if(a>b and a>c):\n",
    "    print(a)\n",
    "elif b>a and b>c :\n",
    "    print(b)\n",
    "else :\n",
    "    print(c)"
   ]
  },
  {
   "cell_type": "code",
   "execution_count": 27,
   "id": "5295c5d6",
   "metadata": {},
   "outputs": [
    {
     "name": "stdout",
     "output_type": "stream",
     "text": [
      "Access Denied\n"
     ]
    }
   ],
   "source": [
    "# 📲 Q7: Build a login system:\n",
    "# - If username is \"admin\" and password is \"1234\", print \"Access Granted\"\n",
    "# - Else print \"Access Denied\"\n",
    "\n",
    "username=input()\n",
    "password=input()\n",
    "\n",
    "if(username=='admin' and password == '1234'):\n",
    "    print('Access Granted')\n",
    "else:\n",
    "    print(\"Access Denied\")"
   ]
  }
 ],
 "metadata": {
  "kernelspec": {
   "display_name": ".venv",
   "language": "python",
   "name": "python3"
  },
  "language_info": {
   "codemirror_mode": {
    "name": "ipython",
    "version": 3
   },
   "file_extension": ".py",
   "mimetype": "text/x-python",
   "name": "python",
   "nbconvert_exporter": "python",
   "pygments_lexer": "ipython3",
   "version": "3.11.9"
  }
 },
 "nbformat": 4,
 "nbformat_minor": 5
}
