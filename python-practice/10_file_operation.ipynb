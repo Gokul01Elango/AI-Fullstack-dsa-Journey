{
 "cells": [
  {
   "cell_type": "markdown",
   "id": "e1a30b5a",
   "metadata": {},
   "source": [
    "## 📁 Concept 13: File Handling – Practice Tasks\n",
    "🎯 Focus: reading, writing, appending, file safety"
   ]
  },
  {
   "cell_type": "code",
   "execution_count": 6,
   "id": "2fbd3ee7",
   "metadata": {},
   "outputs": [
    {
     "name": "stdout",
     "output_type": "stream",
     "text": [
      "5\n",
      "Hello\n"
     ]
    }
   ],
   "source": [
    "file = open (\"Practice.txt\",\"w\")\n",
    "print(file.write(\"Hello\"))\n",
    "file = open (\"Practice.txt\",\"r\")\n",
    "print(file.read())"
   ]
  },
  {
   "cell_type": "code",
   "execution_count": 9,
   "id": "03f4132c",
   "metadata": {},
   "outputs": [
    {
     "name": "stdout",
     "output_type": "stream",
     "text": [
      "This is new file.edit it  I changed the previous content\n"
     ]
    }
   ],
   "source": [
    "# Q1: Create a new file \"my_notes.txt\" and write 3 lines into it\n",
    "\n",
    "file = open(\"Test.txt\",'w')\n",
    "file.write(\"This is new file.edit it\")\n",
    "\n",
    "file.write(\"  I changed the previous content\")\n",
    "file=open (\"Test.txt\",'r')\n",
    "print(file.read())\n",
    "file.close()"
   ]
  },
  {
   "cell_type": "code",
   "execution_count": null,
   "id": "4bea8a8d",
   "metadata": {},
   "outputs": [
    {
     "name": "stdout",
     "output_type": "stream",
     "text": [
      "FIRST LINE\n",
      "\n"
     ]
    }
   ],
   "source": [
    "# Q2: Append 2 new lines to \"my_notes.txt\"\n",
    "\n",
    "file=open(\"My_notes.txt\",'a')\n",
    "\n",
    "file=open(\"My_notes.txt\",'r')\n",
    "print(file.readline())\n",
    "\n"
   ]
  },
  {
   "cell_type": "code",
   "execution_count": 35,
   "id": "78c6185d",
   "metadata": {},
   "outputs": [
    {
     "name": "stdout",
     "output_type": "stream",
     "text": [
      "Auto-Created\n"
     ]
    }
   ],
   "source": [
    "# Q5: Check if file \"important.txt\" exists or not\n",
    "# If not, create it and write \"Auto-created\"\n",
    "import os\n",
    "if os.path.exists(\"important.txt\"):\n",
    "    print(\"File Exist\")\n",
    "    file=open(\"important.txt\",'r')\n",
    "    print(file.read())\n",
    "else:\n",
    "    file=open(\"important.txt\",'w')\n",
    "    file.write('Auto-Created')\n",
    "    file=open(\"important.txt\",'r')\n",
    "    print(file.read())\n",
    "\n"
   ]
  },
  {
   "cell_type": "code",
   "execution_count": 56,
   "id": "f6b21a3a",
   "metadata": {},
   "outputs": [
    {
     "name": "stdout",
     "output_type": "stream",
     "text": [
      "1\n",
      "2\n",
      "3\n",
      "\n"
     ]
    }
   ],
   "source": [
    "# Q6: Ask user to enter 3 lines, and write each to a file \"user_input.txt\"\n",
    "import os\n",
    "if os.path.exists('user_input.txt'):\n",
    "    file=open ('user_input.txt','w')\n",
    "    for i in range(3):\n",
    "        word=input()\n",
    "        file.write(word+\"\\n\")\n",
    "    file=open(\"user_input.txt\",'r')\n",
    "    print(file.read())\n",
    "else:\n",
    "    file=open('user_input.txt','w')\n",
    "    for i in range(3):\n",
    "        word=input()\n",
    "        file.write(word + \"\\n\")\n",
    "        \n",
    "    file=open(\"user_input.txt\",'r')\n",
    "    print(file.read())\n",
    "\n",
    "\n"
   ]
  },
  {
   "cell_type": "code",
   "execution_count": 64,
   "id": "ec6c76e5",
   "metadata": {},
   "outputs": [
    {
     "name": "stdout",
     "output_type": "stream",
     "text": [
      "\n",
      "3\n",
      "2\n",
      "1\n"
     ]
    }
   ],
   "source": [
    "# Q7: Read a file and print number of lines, number of words\n",
    "\n",
    "import os\n",
    "\n",
    "if os.path.exists('user_input.txt'):\n",
    "    file=open('user_input.txt','r')\n",
    "    j=file.read()\n",
    "    j=j[::-1]\n",
    "    print(j)\n",
    "else:\n",
    "    file=open('user_input.txt','r')\n",
    "    j=file[::-1]\n",
    "    print(j)\n"
   ]
  }
 ],
 "metadata": {
  "kernelspec": {
   "display_name": "Python 3",
   "language": "python",
   "name": "python3"
  },
  "language_info": {
   "codemirror_mode": {
    "name": "ipython",
    "version": 3
   },
   "file_extension": ".py",
   "mimetype": "text/x-python",
   "name": "python",
   "nbconvert_exporter": "python",
   "pygments_lexer": "ipython3",
   "version": "3.11.9"
  }
 },
 "nbformat": 4,
 "nbformat_minor": 5
}
