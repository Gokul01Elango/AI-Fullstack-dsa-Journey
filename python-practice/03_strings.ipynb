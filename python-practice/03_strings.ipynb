{
 "cells": [
  {
   "cell_type": "markdown",
   "id": "490b58b6",
   "metadata": {},
   "source": [
    "## 🧵 Concept 3: String Methods + F-Strings + Slicing\n",
    "🎯 Practice string cleaning, formatting, and slicing.\n"
   ]
  },
  {
   "cell_type": "code",
   "execution_count": null,
   "id": "e3865d83",
   "metadata": {},
   "outputs": [
    {
     "name": "stdout",
     "output_type": "stream",
     "text": [
      "gokulelango\n",
      "   gokulelango    \n",
      "Hello ,    gokulelango    \n"
     ]
    }
   ],
   "source": [
    "# 🧠 Q1: Ask user for their full name.\n",
    "# - Remove extra spaces\n",
    "# - Convert it to Title Case\n",
    "# - Print using an F-string: \"Hello, <Formatted Name>!\"\n",
    "\n",
    "name = input(\"Enter Your Name : \")\n",
    "print(name.strip())\n",
    "print(name.capitalize())\n",
    "print(\"Hello ,\", name)\n",
    "\n"
   ]
  },
  {
   "cell_type": "code",
   "execution_count": 3,
   "id": "b070ae8e",
   "metadata": {},
   "outputs": [
    {
     "name": "stdout",
     "output_type": "stream",
     "text": [
      "1\n",
      "-gokul-elango-\n"
     ]
    }
   ],
   "source": [
    "# 🔁 Q2: Take a sentence and:\n",
    "# - Count how many times the letter \"a\" or \"A\" appears\n",
    "# - Replace all spaces with \"-\"\n",
    "\n",
    "name = input()\n",
    "print(name.count('a'))\n",
    "print(name.replace(' ','-'))"
   ]
  },
  {
   "cell_type": "code",
   "execution_count": 14,
   "id": "a9fb41ae",
   "metadata": {},
   "outputs": [
    {
     "name": "stdout",
     "output_type": "stream",
     "text": [
      "gok\n",
      "luk\n"
     ]
    }
   ],
   "source": [
    "# ✂️ Q3: Ask user for a word and print:\n",
    "# - First 3 characters\n",
    "# - Last 3 characters\n",
    "# - Reversed word (using slicing only)\n",
    "\n",
    "#gokul\n",
    "\n",
    "name = input()\n",
    "print(name[:3])\n",
    "print(name[:1:-1])"
   ]
  },
  {
   "cell_type": "code",
   "execution_count": null,
   "id": "9930108c",
   "metadata": {},
   "outputs": [
    {
     "name": "stdout",
     "output_type": "stream",
     "text": [
      "gokul  is  22 years old.\n"
     ]
    }
   ],
   "source": [
    "# 🔢 Q4: Ask user for their name and age, and print:\n",
    "# \"Gokul is 22 years old.\" using f-string.\n",
    "\n",
    "name=input()\n",
    "age=input\n",
    "print(name,\" is \",age,\"years old.\")"
   ]
  },
  {
   "cell_type": "code",
   "execution_count": 17,
   "id": "baa93afb",
   "metadata": {},
   "outputs": [
    {
     "name": "stdout",
     "output_type": "stream",
     "text": [
      "True\n",
      "False\n"
     ]
    }
   ],
   "source": [
    "# 🔍 Q5: Take a string and:\n",
    "# - Check if it starts with \"Hello\"\n",
    "# - Check if it ends with \"bye\"\n",
    "\n",
    "name=\"Hello gokul how is your day \"\n",
    "print(name.startswith(\"Hello\"))\n",
    "print(name.endswith(\"bye\"))"
   ]
  },
  {
   "cell_type": "code",
   "execution_count": 20,
   "id": "a3f464a4",
   "metadata": {},
   "outputs": [
    {
     "name": "stdout",
     "output_type": "stream",
     "text": [
      "False\n",
      "False\n",
      "True\n"
     ]
    }
   ],
   "source": [
    "# 🔡 Q6: Ask for a string and check:\n",
    "# - Is it all digits?\n",
    "# - Is it all alphabets?\n",
    "# - Is it all lowercase?\n",
    "\n",
    "value='1212121wq'\n",
    "print(value.isdigit())\n",
    "print(value.isalpha())\n",
    "print(value.islower())"
   ]
  },
  {
   "cell_type": "markdown",
   "id": "94056bc2",
   "metadata": {},
   "source": [
    "We can use print(*list,sep=' | ') to split the contents"
   ]
  },
  {
   "cell_type": "code",
   "execution_count": 24,
   "id": "70ed1838",
   "metadata": {},
   "outputs": [
    {
     "name": "stdout",
     "output_type": "stream",
     "text": [
      "Python is awesome\n",
      "Python | is | awesome\n"
     ]
    }
   ],
   "source": [
    "# 🔁 Q7: Join this list into a string: [\"Python\", \"is\", \"awesome\"]\n",
    "# Output should be: \"Python is awesome\"\n",
    "list = [\"Python\", \"is\", \"awesome\"]\n",
    "print(list[0],list[1],list[2])\n",
    "print(*list,sep=' | ')\n"
   ]
  },
  {
   "cell_type": "code",
   "execution_count": null,
   "id": "864e679d",
   "metadata": {},
   "outputs": [
    {
     "name": "stdout",
     "output_type": "stream",
     "text": [
      "gokul.elango\n",
      "gmail\n",
      "user name is gokul.elango and domain used is gmail\n"
     ]
    }
   ],
   "source": [
    "email='gokul.elango@gmail.com'\n",
    "username=email.split('@')[0]\n",
    "print(username)\n",
    "domain=email.split('@')[1].split('.')[0]\n",
    "print(domain)\n",
    "# f-String concept\n",
    "print(f\"user name is {username} and domain used is {domain}\")"
   ]
  }
 ],
 "metadata": {
  "kernelspec": {
   "display_name": ".venv",
   "language": "python",
   "name": "python3"
  },
  "language_info": {
   "codemirror_mode": {
    "name": "ipython",
    "version": 3
   },
   "file_extension": ".py",
   "mimetype": "text/x-python",
   "name": "python",
   "nbconvert_exporter": "python",
   "pygments_lexer": "ipython3",
   "version": "3.11.9"
  }
 },
 "nbformat": 4,
 "nbformat_minor": 5
}
