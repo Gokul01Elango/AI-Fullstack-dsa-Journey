{
 "cells": [
  {
   "cell_type": "markdown",
   "id": "bb16c9c5",
   "metadata": {},
   "source": [
    "🧱 Step 4: Inheritance (Reusing & Extending Classes)\n",
    "🔹 Concept\n",
    "\n",
    "Inheritance allows one class (child) to inherit the properties and methods of another class (parent).\n",
    "\n",
    "Just like:\n",
    "\n",
    "    A Dog class can inherit from an Animal class\n",
    "    An Admin user can inherit from a general User class"
   ]
  },
  {
   "cell_type": "code",
   "execution_count": 1,
   "id": "a466e8d6",
   "metadata": {},
   "outputs": [
    {
     "name": "stdout",
     "output_type": "stream",
     "text": [
      "Walking\n"
     ]
    }
   ],
   "source": [
    "class Animal:\n",
    "    def sound(self):\n",
    "        print(\"Speaking\")\n",
    "    def walk(self):\n",
    "        print(\"Walking\")\n",
    "class Dog(Animal):\n",
    "    def bite(self):\n",
    "        print(\"Bite very aggresively\")\n",
    "d1=Dog()\n",
    "d1.walk()\n"
   ]
  },
  {
   "cell_type": "markdown",
   "id": "a1fcd370",
   "metadata": {},
   "source": [
    "## ✅ Step 4: Inheritance\n",
    "🎯 Goal: Use and test inheritance between parent and child classes."
   ]
  },
  {
   "cell_type": "code",
   "execution_count": 2,
   "id": "85b40b02",
   "metadata": {},
   "outputs": [
    {
     "name": "stdout",
     "output_type": "stream",
     "text": [
      "Starting\n"
     ]
    }
   ],
   "source": [
    "# Q1: Create a class `Vehicle` with method `start()`. \n",
    "# Inherit a `Car` class from it. Call `start()` using a Car object.\n",
    "\n",
    "class Vehicle : \n",
    "    def start(self):\n",
    "        print(\"Starting\")\n",
    "    \n",
    "class Car(Vehicle):\n",
    "    def model():\n",
    "        print(\"Insert model name and numbers\")\n",
    "\n",
    "c1=Car()\n",
    "\n",
    "c1.start()"
   ]
  },
  {
   "cell_type": "code",
   "execution_count": 2,
   "id": "002eb850",
   "metadata": {},
   "outputs": [
    {
     "name": "stdout",
     "output_type": "stream",
     "text": [
      "Barking\n",
      "Animal Speaks\n"
     ]
    }
   ],
   "source": [
    "# Q1: Create a class `Animal` with method `speak()` that prints \"Animal speaks\".\n",
    "# Create a child class `Dog` that inherits Animal.\n",
    "# Add method `bark()` that prints \"Dog barks\".\n",
    "# Create Dog object and call both methods.\n",
    "\n",
    "class Animal :\n",
    "    def speak(self):\n",
    "        print(\"Animal Speaks\")\n",
    "class Child(Animal):\n",
    "    def barks(self):\n",
    "        print(\"Barking\")\n",
    "\n",
    "obj1=Child()\n",
    "obj1.barks()\n",
    "obj1.speak()"
   ]
  },
  {
   "cell_type": "code",
   "execution_count": 3,
   "id": "5bd8fe5d",
   "metadata": {},
   "outputs": [
    {
     "name": "stdout",
     "output_type": "stream",
     "text": [
      "Showing\n"
     ]
    }
   ],
   "source": [
    "# Q2: Create class `Person` with method `show()`.\n",
    "# Create class `Employee` inheriting `Person`.\n",
    "# Create Employee object and use parent class method.\n",
    "\n",
    "class Person:\n",
    "    def show(self):\n",
    "        print(\"Showing\")\n",
    "class Employee(Person):\n",
    "    pass\n",
    "\n",
    "object=Employee()\n",
    "object.show()"
   ]
  },
  {
   "cell_type": "code",
   "execution_count": 5,
   "id": "5ee89930",
   "metadata": {},
   "outputs": [
    {
     "name": "stdout",
     "output_type": "stream",
     "text": [
      "Account holder Name :  Gokul\n",
      "Savings Account\n"
     ]
    }
   ],
   "source": [
    "# Q3: Create class `BankAccount` with method `basic_info()` that prints account holder name.\n",
    "# Create class `SavingsAccount` that inherits it.\n",
    "# Add method `account_type()` that prints \"Savings Account\".\n",
    "# Call both methods using SavingsAccount object.\n",
    "\n",
    "class BankAccount :\n",
    "    def basicinfo(self,name):\n",
    "        print(\"Account holder Name : \",name)\n",
    "class SavingsAccount(BankAccount):\n",
    "    def account_type(self):\n",
    "        print(\"Savings Account\")\n",
    "    \n",
    "obj=SavingsAccount()\n",
    "obj.basicinfo(\"Gokul\")\n",
    "obj.account_type()"
   ]
  },
  {
   "cell_type": "code",
   "execution_count": 6,
   "id": "f3c4d396",
   "metadata": {},
   "outputs": [
    {
     "name": "stdout",
     "output_type": "stream",
     "text": [
      "Fuel Type is :  Petrol\n"
     ]
    }
   ],
   "source": [
    "# Q4: BONUS – Create parent class `Vehicle` with method `fuel_type()`.\n",
    "# Create child class `Car` inheriting `Vehicle`.\n",
    "# Override method `fuel_type()` in Car to print \"Petrol/Diesel\".\n",
    "# Create Car object and check which version runs.\n",
    "\n",
    "class Vehicle:\n",
    "    def fuel_type(self):\n",
    "        print(\"petrol\")\n",
    "class Car(Vehicle):\n",
    "    def fuel_type(self,type):\n",
    "        print(\"Fuel Type is : \",type)\n",
    "obj=Car()\n",
    "obj.fuel_type(\"Petrol\")"
   ]
  }
 ],
 "metadata": {
  "kernelspec": {
   "display_name": "Python 3",
   "language": "python",
   "name": "python3"
  },
  "language_info": {
   "codemirror_mode": {
    "name": "ipython",
    "version": 3
   },
   "file_extension": ".py",
   "mimetype": "text/x-python",
   "name": "python",
   "nbconvert_exporter": "python",
   "pygments_lexer": "ipython3",
   "version": "3.11.9"
  }
 },
 "nbformat": 4,
 "nbformat_minor": 5
}
