{
 "cells": [
  {
   "cell_type": "markdown",
   "id": "6ccea9c0",
   "metadata": {},
   "source": [
    "🧱 Step 6: Method Overriding & super() (Child Customization)\n",
    "🔹 Concept Recap\n",
    "\n",
    "    Method Overriding = child class replaces parent method.\n",
    "\n",
    "    super() = call the parent class method from child class, if needed.\n",
    "\n",
    "🧠 Why use it?\n",
    "\n",
    "    Child classes often need to modify or extend parent methods without writing them fully from scratch."
   ]
  },
  {
   "cell_type": "markdown",
   "id": "1a8b8bce",
   "metadata": {},
   "source": [
    "## ✅ Step 6: Method Overriding & super()\n",
    "🎯 Goal: Customize parent methods in child class + Use super()."
   ]
  },
  {
   "cell_type": "code",
   "execution_count": 6,
   "id": "f6540c74",
   "metadata": {},
   "outputs": [
    {
     "name": "stdout",
     "output_type": "stream",
     "text": [
      "Animal Sound\n",
      "Meow\n"
     ]
    }
   ],
   "source": [
    "# Q1: Create class `Animal` with method `sound()` that prints \"Animal sound\".\n",
    "# Create child class `Cat`. Override `sound()` to print \"Meow\".\n",
    "# Create Cat object and call sound().\n",
    "\n",
    "class Animal:\n",
    "    def sound(self):\n",
    "        print(\"Animal Sound\")\n",
    "class Cat(Animal):\n",
    "    def sound(self):\n",
    "        super().sound()\n",
    "        print(\"Meow\")\n",
    "cat1=Cat()\n",
    "cat1.sound()\n",
    "# cat1."
   ]
  },
  {
   "cell_type": "code",
   "execution_count": 10,
   "id": "d203b9fe",
   "metadata": {},
   "outputs": [
    {
     "name": "stdout",
     "output_type": "stream",
     "text": [
      "Call , SMS\n",
      "Apps,Camera\n"
     ]
    }
   ],
   "source": [
    "# Q2: Create class `Phone` with method `features()` that prints \"Call, SMS\".\n",
    "# Create child class `Smartphone` that overrides `features()` to include \"Apps, Camera\".\n",
    "# Create object and print features.\n",
    "\n",
    "class Phone:\n",
    "    def features(self):\n",
    "        print(\"Call , SMS\")\n",
    "class Smartphone(Phone):\n",
    "    def features(self):\n",
    "        super().features()\n",
    "        print(\"Apps,Camera\")\n",
    "\n",
    "m1=Smartphone()\n",
    "m1.features()"
   ]
  },
  {
   "cell_type": "code",
   "execution_count": 12,
   "id": "cab74119",
   "metadata": {},
   "outputs": [
    {
     "name": "stdout",
     "output_type": "stream",
     "text": [
      "Basic Specs\n",
      "Portable , battery-powered\n"
     ]
    }
   ],
   "source": [
    "# Q3: BONUS – Use `super()`:\n",
    "# Create class `Computer` with method `specs()` that prints \"Basic specs\".\n",
    "# In child class `Laptop`, use `super().specs()` first, then print \"Portable, Battery-powered\".\n",
    "# Create Laptop object and call specs().\n",
    "\n",
    "class Computer:\n",
    "    def specs(self):\n",
    "        print(\"Basic Specs\")\n",
    "class Laptop(Computer):\n",
    "    def specs(self):\n",
    "        super().specs()\n",
    "        print(\"Portable , battery-powered\")\n",
    "\n",
    "lap1=Laptop()\n",
    "lap1.specs()"
   ]
  }
 ],
 "metadata": {
  "kernelspec": {
   "display_name": "Python 3",
   "language": "python",
   "name": "python3"
  },
  "language_info": {
   "codemirror_mode": {
    "name": "ipython",
    "version": 3
   },
   "file_extension": ".py",
   "mimetype": "text/x-python",
   "name": "python",
   "nbconvert_exporter": "python",
   "pygments_lexer": "ipython3",
   "version": "3.11.9"
  }
 },
 "nbformat": 4,
 "nbformat_minor": 5
}
