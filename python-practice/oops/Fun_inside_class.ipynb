{
 "cells": [
  {
   "cell_type": "markdown",
   "id": "0ca511aa",
   "metadata": {},
   "source": [
    "🧱 Step 3: Object Methods – Writing Functions Inside a Class"
   ]
  },
  {
   "cell_type": "markdown",
   "id": "18e138f2",
   "metadata": {},
   "source": [
    "## ✅ Step 3: Object Methods\n",
    "🎯 Goal: Add methods inside your class that use attributes and `self`."
   ]
  }
 ],
 "metadata": {
  "language_info": {
   "name": "python"
  }
 },
 "nbformat": 4,
 "nbformat_minor": 5
}
