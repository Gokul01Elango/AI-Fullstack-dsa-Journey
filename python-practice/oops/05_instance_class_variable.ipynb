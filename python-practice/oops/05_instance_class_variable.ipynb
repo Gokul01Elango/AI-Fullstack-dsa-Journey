{
 "cells": [
  {
   "cell_type": "markdown",
   "id": "da3ecda3",
   "metadata": {},
   "source": [
    "## ✅ Step 4: Class vs Instance Variables\n",
    "🎯 Goal: Understand what’s shared and what’s object-specific"
   ]
  },
  {
   "cell_type": "code",
   "execution_count": 4,
   "id": "e4730d55",
   "metadata": {},
   "outputs": [
    {
     "name": "stdout",
     "output_type": "stream",
     "text": [
      "iPhone android\n",
      "Redmin android\n",
      "iPhone iOS\n",
      "Redmin android\n"
     ]
    }
   ],
   "source": [
    "# Q1: Create class `Mobile` with class variable `os = \"Android\"`\n",
    "# Add instance variables: brand, price.\n",
    "# Create 2 objects. Print brand & os for both.\n",
    "\n",
    "class Mobile:\n",
    "    \n",
    "    os=\"android\"\n",
    "\n",
    "    def __init__(self,brand,price):\n",
    "        self.brand=brand\n",
    "        self.price=price\n",
    "\n",
    "m1=Mobile(\"iPhone\",10500)\n",
    "print(m1.brand,m1.os)    \n",
    "\n",
    "m2=Mobile(\"Redmin\",25400)\n",
    "print(m2.brand,m2.os)\n",
    "\n",
    "# Q2: Change the class variable `os` to \"iOS\" for one object only.\n",
    "# Print os for both and observe the difference.\n",
    "m1.os=\"iOS\"\n",
    "print(m1.brand,m1.os)\n",
    "print(m2.brand,m2.os)"
   ]
  },
  {
   "cell_type": "code",
   "execution_count": 8,
   "id": "03ba3587",
   "metadata": {},
   "outputs": [
    {
     "name": "stdout",
     "output_type": "stream",
     "text": [
      "KNCET\n",
      "KNCET\n",
      "KNCET\n"
     ]
    }
   ],
   "source": [
    "# Q3: Create class `Student` with class variable `college = \"XYZ College\"`\n",
    "# Instance variables: name, branch.\n",
    "# Print college using object. Then update `Student.college = \"ABC College\"` and check both objects.\n",
    "\n",
    "class Student:\n",
    "    college = \"KNCET\"\n",
    "    def __init__(self,name,branch):\n",
    "        self.name=name\n",
    "        self.branch=branch\n",
    "s1=Student(\"Gokul\",\"IT\")\n",
    "s2=Student(\"Gokul\",\"IT\")\n",
    "print(s1.college)\n",
    "# Student.college=\"IIT\"\n",
    "print(s2.college)\n",
    "print(s1.college)"
   ]
  }
 ],
 "metadata": {
  "kernelspec": {
   "display_name": "Python 3",
   "language": "python",
   "name": "python3"
  },
  "language_info": {
   "codemirror_mode": {
    "name": "ipython",
    "version": 3
   },
   "file_extension": ".py",
   "mimetype": "text/x-python",
   "name": "python",
   "nbconvert_exporter": "python",
   "pygments_lexer": "ipython3",
   "version": "3.11.9"
  }
 },
 "nbformat": 4,
 "nbformat_minor": 5
}
