{
 "cells": [
  {
   "cell_type": "markdown",
   "id": "188c23e9",
   "metadata": {},
   "source": [
    "🧱 Step 7: Encapsulation & Access Control (_, __)\n",
    "🔹 Concept Recap\n",
    "\n",
    "    Encapsulation = hide internal details of a class from outside interference.\n",
    "\n",
    "    Use _ and __ for controlled access:\n",
    "\n",
    "        _single_underscore → Protected (convention: should not be accessed directly).\n",
    "\n",
    "        __double_underscore → Private (name mangling; Python restricts direct access)."
   ]
  },
  {
   "cell_type": "code",
   "execution_count": null,
   "id": "87cc8910",
   "metadata": {},
   "outputs": [
    {
     "name": "stdout",
     "output_type": "stream",
     "text": [
      "Admin\n",
      "1234\n"
     ]
    }
   ],
   "source": [
    "_user=\"Admin\"\n",
    "__pass=\"1234\"\n",
    "print(_user)\n",
    "print(__pass)\n",
    "\n",
    "# it works only inside class "
   ]
  },
  {
   "cell_type": "code",
   "execution_count": null,
   "id": "231179fd",
   "metadata": {},
   "outputs": [],
   "source": [
    "class Account:\n",
    "    def __init__(self, balance):\n",
    "        self._balance = balance  # Protected\n",
    "        self.__pin = 1234        # Private\n",
    "\n",
    "    def show_balance(self):\n",
    "        print(f\"Balance: ₹{self._balance}\")\n",
    "\n",
    "a1 = Account(5000)\n",
    "print(a1._balance)    # Allowed but not recommended\n",
    "# print(a1.__pin)     # Error! Private attribute\n"
   ]
  },
  {
   "cell_type": "markdown",
   "id": "226011ec",
   "metadata": {},
   "source": [
    "## ✅ Step 7: Encapsulation – `_` and `__` (Access Control)\n",
    "🎯 Goal: Restrict data access using protected & private variables."
   ]
  },
  {
   "cell_type": "code",
   "execution_count": 11,
   "id": "d8f5a6c0",
   "metadata": {},
   "outputs": [
    {
     "name": "stdout",
     "output_type": "stream",
     "text": [
      "10\n"
     ]
    }
   ],
   "source": [
    "# Q1: Create class `Student` with protected variable `_marks`.\n",
    "# Create object and print `_marks` from outside (observe).\n",
    "\n",
    "class Student:\n",
    "    __marks=10\n",
    "    # __pass=\"1234\"\n",
    "\n",
    "s1=Student()\n",
    "print(s1._Student__marks)\n",
    "# print(s1.__pass)"
   ]
  },
  {
   "cell_type": "code",
   "execution_count": 12,
   "id": "818662e5",
   "metadata": {},
   "outputs": [
    {
     "ename": "AttributeError",
     "evalue": "'Employee' object has no attribute '__salary'",
     "output_type": "error",
     "traceback": [
      "\u001b[31m---------------------------------------------------------------------------\u001b[39m",
      "\u001b[31mAttributeError\u001b[39m                            Traceback (most recent call last)",
      "\u001b[36mCell\u001b[39m\u001b[36m \u001b[39m\u001b[32mIn[12]\u001b[39m\u001b[32m, line 8\u001b[39m\n\u001b[32m      5\u001b[39m     __salary=\u001b[32m20000\u001b[39m\n\u001b[32m      7\u001b[39m e1=Employee()\n\u001b[32m----> \u001b[39m\u001b[32m8\u001b[39m \u001b[43me1\u001b[49m\u001b[43m.\u001b[49m\u001b[43m__salary\u001b[49m\n",
      "\u001b[31mAttributeError\u001b[39m: 'Employee' object has no attribute '__salary'"
     ]
    }
   ],
   "source": [
    "# Q2: Create class `Employee` with private variable `__salary`.\n",
    "# Try to print it from outside (should fail).\n",
    "\n",
    "class Employee:\n",
    "    __salary=20000\n",
    "\n",
    "e1=Employee()\n",
    "e1.__salary"
   ]
  },
  {
   "cell_type": "code",
   "execution_count": 15,
   "id": "f3b327fe",
   "metadata": {},
   "outputs": [
    {
     "name": "stdout",
     "output_type": "stream",
     "text": [
      "10000\n",
      "10000\n"
     ]
    }
   ],
   "source": [
    "# Q3: Create method `show_salary()` inside Employee to access and print `__salary`.\n",
    "# Call it via object (works).\n",
    "\n",
    "class Employee:\n",
    "    __salary=10000\n",
    "    def show_salary(self):\n",
    "        print(self.__salary)\n",
    "e1=Employee()\n",
    "e1.show_salary()\n",
    "\n",
    "# Q4: BONUS – Use name mangling to access private variable directly:\n",
    "# Print it using: object._ClassName__variablename\n",
    "\n",
    "print(e1._Employee__salary)"
   ]
  }
 ],
 "metadata": {
  "kernelspec": {
   "display_name": "Python 3",
   "language": "python",
   "name": "python3"
  },
  "language_info": {
   "codemirror_mode": {
    "name": "ipython",
    "version": 3
   },
   "file_extension": ".py",
   "mimetype": "text/x-python",
   "name": "python",
   "nbconvert_exporter": "python",
   "pygments_lexer": "ipython3",
   "version": "3.11.9"
  }
 },
 "nbformat": 4,
 "nbformat_minor": 5
}
