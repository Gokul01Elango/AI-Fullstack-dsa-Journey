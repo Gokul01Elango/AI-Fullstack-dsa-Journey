{
 "cells": [
  {
   "cell_type": "markdown",
   "id": "0ca511aa",
   "metadata": {},
   "source": [
    "🧱 Step 3: Object Methods – Writing Functions Inside a Class"
   ]
  },
  {
   "cell_type": "markdown",
   "id": "18e138f2",
   "metadata": {},
   "source": [
    "## ✅ Step 3: Object Methods\n",
    "🎯 Goal: Add methods inside your class that use attributes and `self`."
   ]
  },
  {
   "cell_type": "code",
   "execution_count": 7,
   "id": "b9e41b1a",
   "metadata": {},
   "outputs": [
    {
     "name": "stdout",
     "output_type": "stream",
     "text": [
      "Brand :  Lenova Ram :  8\n"
     ]
    }
   ],
   "source": [
    "# Q1: Create a class `Laptop` with attributes: brand, ram\n",
    "# Add a method `show_specs()` that prints brand and RAM in a sentence.\n",
    "\n",
    "class Laptop:\n",
    "    def __init__(self,brand,ram):\n",
    "        self.brand=brand\n",
    "        self.ram=ram\n",
    "    def show_specs(self):\n",
    "        print(\"Brand : \",self.brand,\"Ram : \",self.ram)\n",
    "l1=Laptop(\"Lenova\",8)\n",
    "l1.show_specs()"
   ]
  },
  {
   "cell_type": "code",
   "execution_count": 10,
   "id": "ade1419b",
   "metadata": {},
   "outputs": [
    {
     "name": "stdout",
     "output_type": "stream",
     "text": [
      "Empoyee Gokul Earns 40333\n"
     ]
    }
   ],
   "source": [
    "# Q2: Create a class `Employee` with name and salary\n",
    "# Add a method `print_details()` that prints: \"Employee <name> earns ₹<salary>\"\n",
    "\n",
    "class Employee:\n",
    "    def __init__(self,name,salary):\n",
    "        self.name=name\n",
    "        self.salary=salary\n",
    "    def print_details(self):\n",
    "        print(\"Empoyee\",self.name,\"Earns\",self.salary)\n",
    "e1=Employee(\"Gokul\",40333)\n",
    "e1.print_details()"
   ]
  },
  {
   "cell_type": "code",
   "execution_count": 14,
   "id": "021a0db8",
   "metadata": {},
   "outputs": [
    {
     "name": "stdout",
     "output_type": "stream",
     "text": [
      "40\n",
      "15\n"
     ]
    }
   ],
   "source": [
    "# Q3: Create a class `Rectangle` with length and width\n",
    "# Add a method `area()` that returns the area. Print the area.\n",
    "\n",
    "class Rectangle:\n",
    "    def __init__(self,length,width):\n",
    "        self.length=length\n",
    "        self.width=width\n",
    "    def area(self):\n",
    "        return self.length*self.width\n",
    "r1=Rectangle(10,4)\n",
    "f4=Rectangle(3,5)\n",
    "print(r1.area())\n",
    "print(f4.area())"
   ]
  },
  {
   "cell_type": "code",
   "execution_count": null,
   "id": "ae1a18da",
   "metadata": {},
   "outputs": [
    {
     "name": "stdout",
     "output_type": "stream",
     "text": [
      "208\n",
      "69.33\n",
      "69.33\n"
     ]
    }
   ],
   "source": [
    "# Q4: Create a class `Student` with marks in 3 subjects\n",
    "# Add method `total_marks()` that returns total. Add another method `average()` that returns average.\n",
    "class Student:\n",
    "    def __init__(self,m1,m2,m3):\n",
    "        self.m1=m1\n",
    "        self.m2=m2\n",
    "        self.m3=m3\n",
    "    def total_marks(self):\n",
    "        return self.m1+self.m2+self.m3\n",
    "    def average(self):\n",
    "        return (self.m1+self.m2+self.m3)/3\n",
    "s1=Student(78,60,70)\n",
    "\n",
    "print(s1.total_marks())\n",
    "\n",
    "#Two round with decimal points\n",
    "\n",
    "print(round(s1.average(),2))\n",
    "print(f\"{s1.average():.2f}\")\n",
    "\n",
    "        "
   ]
  }
 ],
 "metadata": {
  "kernelspec": {
   "display_name": "Python 3",
   "language": "python",
   "name": "python3"
  },
  "language_info": {
   "codemirror_mode": {
    "name": "ipython",
    "version": 3
   },
   "file_extension": ".py",
   "mimetype": "text/x-python",
   "name": "python",
   "nbconvert_exporter": "python",
   "pygments_lexer": "ipython3",
   "version": "3.11.9"
  }
 },
 "nbformat": 4,
 "nbformat_minor": 5
}
