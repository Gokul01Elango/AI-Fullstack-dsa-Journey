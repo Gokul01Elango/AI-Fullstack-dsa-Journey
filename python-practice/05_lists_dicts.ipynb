{
 "cells": [
  {
   "cell_type": "markdown",
   "id": "fe3a6298",
   "metadata": {},
   "source": [
    "## 🗂️ Concept 9: Dictionary Practice Tasks\n",
    "🎯 Focus: creation, access, update, iteration, logic"
   ]
  },
  {
   "cell_type": "code",
   "execution_count": 22,
   "id": "062454a2",
   "metadata": {},
   "outputs": [
    {
     "name": "stdout",
     "output_type": "stream",
     "text": [
      "dict_items([('name', 'Gokul'), ('age', 24), ('college', 'KNCET'), ('city', 'Karur'), ('grade', 'B')])\n"
     ]
    }
   ],
   "source": [
    "# Q1: Create a dictionary to store your personal info:\n",
    "# Keys: name, age, college, city\n",
    "# - Print the value for 'college'\n",
    "\n",
    "\n",
    "Personal_info = {\n",
    "    \"name\" : \"Gokul\",\n",
    "    \"age\" : 22,\n",
    "    \"college\" : \"KNCET\",\n",
    "    \"city\" : \"Karur\",  \n",
    "    # \"name\" : \"chandana\" \n",
    "}\n",
    "Personal_info.update({\"age\":24,\"grade\":\"B\"})\n",
    "# print(Personal_info.get(\"age\"))\n",
    "# print(Personal_info[\"name\"])\n",
    "print(Personal_info.items())\n",
    "# del Personal_info[\"name\"]\n",
    "# Personal_info.pop(\"age\")\n",
    "# Personal_info.clear()\n",
    "# print(Personal_info.items())\n"
   ]
  },
  {
   "cell_type": "code",
   "execution_count": 23,
   "id": "0f6bac84",
   "metadata": {},
   "outputs": [
    {
     "name": "stdout",
     "output_type": "stream",
     "text": [
      "{'name': 'Gokul', 'age': 23, 'college': 'KNCET', 'grade': 'B'}\n"
     ]
    }
   ],
   "source": [
    "# Q2: Add a new key \"email\" to your dictionary\n",
    "# - Update age to 23\n",
    "# - Delete the city\n",
    "\n",
    "Personal_info.update({\"age\":23})\n",
    "del Personal_info[\"city\"]\n",
    "print(Personal_info)"
   ]
  },
  {
   "cell_type": "code",
   "execution_count": 26,
   "id": "81c720d3",
   "metadata": {},
   "outputs": [
    {
     "name": "stdout",
     "output_type": "stream",
     "text": [
      "dict_keys([' apple', 'banana', 'mango'])\n",
      "dict_values([10, 5, 8])\n",
      "dict_items([(' apple', 10), ('banana', 5), ('mango', 8)])\n"
     ]
    }
   ],
   "source": [
    "# Q3: Create a dictionary:\n",
    "# fruits = {\"apple\": 10, \"banana\": 5, \"mango\": 8}\n",
    "# - Print all keys\n",
    "# - Print all values\n",
    "# - Print all key-value pairs\n",
    "\n",
    "fruits = { \" apple\" : 10, \"banana\" : 5 , \"mango\" : 8}\n",
    "\n",
    "print(fruits.keys())\n",
    "print(fruits.values())\n",
    "print(fruits.items())"
   ]
  },
  {
   "cell_type": "code",
   "execution_count": 30,
   "id": "e17fa9de",
   "metadata": {},
   "outputs": [
    {
     "name": "stdout",
     "output_type": "stream",
     "text": [
      "265\n",
      "95\n"
     ]
    }
   ],
   "source": [
    "# Q4: Given:\n",
    "# marks = {\"Math\": 90, \"English\": 80, \"CS\": 95}\n",
    "# - Find total marks\n",
    "# - Find subject with highest marks\n",
    "\n",
    "marks = { \"Math\" : 90 , \"English\":80 , \"CS\" : 95}\n",
    "sum=0\n",
    "max=0\n",
    "for val in marks.values():\n",
    "    sum+=val\n",
    "    if(max<val):\n",
    "        max=val\n",
    "\n",
    "print(sum)\n",
    "print(max)\n"
   ]
  },
  {
   "cell_type": "code",
   "execution_count": 34,
   "id": "3ce83445",
   "metadata": {},
   "outputs": [
    {
     "name": "stdout",
     "output_type": "stream",
     "text": [
      "{'shoe': '1000', 'bat': '1230', 'kettle': '900'}\n"
     ]
    }
   ],
   "source": [
    "# Q5: Ask user for 3 products and prices.\n",
    "# - Store in dictionary and print it\n",
    "Products=dict()\n",
    "for i in range(3):\n",
    "    product_name=input()\n",
    "    price=input()\n",
    "    Products[product_name]=price\n",
    "    # print(Products)\n",
    "print(Products)"
   ]
  },
  {
   "cell_type": "code",
   "execution_count": null,
   "id": "3544dc79",
   "metadata": {},
   "outputs": [],
   "source": [
    "name = \"Hello world \"\n",
    "for i in name:\n",
    "    if(i in )"
   ]
  }
 ],
 "metadata": {
  "kernelspec": {
   "display_name": ".venv",
   "language": "python",
   "name": "python3"
  },
  "language_info": {
   "codemirror_mode": {
    "name": "ipython",
    "version": 3
   },
   "file_extension": ".py",
   "mimetype": "text/x-python",
   "name": "python",
   "nbconvert_exporter": "python",
   "pygments_lexer": "ipython3",
   "version": "3.11.9"
  }
 },
 "nbformat": 4,
 "nbformat_minor": 5
}
